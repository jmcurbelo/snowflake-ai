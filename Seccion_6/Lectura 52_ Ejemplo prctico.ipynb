{
 "metadata": {
  "kernelspec": {
   "display_name": "Streamlit Notebook",
   "name": "streamlit"
  },
  "lastEditStatus": {
   "notebookId": "dddkod4sejamrlf3xlah",
   "authorId": "5639445461508",
   "authorName": "JOSE",
   "authorEmail": "jmoyacurbelo@outlook.com",
   "sessionId": "88f7eaa9-906c-4b75-8cf3-e8ec05dfe488",
   "lastEditTime": 1749783600255
  }
 },
 "nbformat_minor": 5,
 "nbformat": 4,
 "cells": [
  {
   "cell_type": "markdown",
   "id": "fe18818d-ae75-4eb5-954d-f5f09b2f2e8b",
   "metadata": {
    "name": "cell1",
    "collapsed": false
   },
   "source": "En esta lección, crearemos un sistema RAG utilizando Cortex Search y Cortex LLM. A continuación, añadiremos el rastreo de OpenTelemetry con TruLens a la aplicación. Por último, crearemos un conjunto de pruebas y ejecutaremos evaluaciones de LLM como juez en batch en nuestra aplicación.\n\n## ¿Qué es TruLens?\n\nTruLens es una librería de código abierto para el seguimiento y la evaluación de aplicaciones de IA generativa, que además impulsa la Observabilidad de IA de Snowflake.\n\n## Privilegios\n\nSi usted no están trabajando con una cuenta de prueba de Snowflake ni tiene el rol de `ACCOUNTADMIN`, asegúrese de que el rol de usuario que esté usando tenga asignado los siguientes roles :\n\n- Rol de base de datos `SNOWFLAKE.CORTEX_USER`\n- Rol de aplicación `SNOWFLAKE.AI_OBSERVABILITY_EVENTS_LOOKUP`\n- Privilegio `CREATE EXTERNAL AGENT` en el esquema\n\n## Librerías requeridas\n\nEn su notebook de Snowflake, agregue las siguientes librerías de Python: \n\n- `snowflake-ml-python`\n- `snowflake.core`\n- `trulens-core`\n- `trulens-providers-cortex`\n- `trulens-connectors-snowflake`"
  },
  {
   "cell_type": "markdown",
   "id": "e8da8a0c-2aec-4a7e-b3a0-82440f3d8856",
   "metadata": {
    "name": "cell3",
    "collapsed": false
   },
   "source": "A continuación, vamos a crear un esquema para esta sección del curso."
  },
  {
   "cell_type": "code",
   "id": "0e71de18-a31d-46a7-afc9-c21482994f5d",
   "metadata": {
    "language": "sql",
    "name": "cell4"
   },
   "outputs": [],
   "source": "CREATE OR REPLACE SCHEMA curso_ia.seccion_6;",
   "execution_count": null
  },
  {
   "cell_type": "code",
   "id": "a6276ff0-b031-4000-a3a0-afa00b682591",
   "metadata": {
    "language": "python",
    "name": "cell2"
   },
   "outputs": [],
   "source": "# Obtener la sesión de snowpark\nfrom snowflake.snowpark.context import get_active_session\nsession = get_active_session()",
   "execution_count": null
  },
  {
   "cell_type": "markdown",
   "id": "096fc58a-04d3-44cc-9b33-a78eae58e89b",
   "metadata": {
    "name": "cell6",
    "collapsed": false
   },
   "source": "## RAG\n\nPara esta lección vamos a utilizar el servicio de Cortex Search `aws_search_service` que construimos en la sección 4 del curso.\n\nA continuación, podemos crear una clase `CortexSearchRetreiver` para conectarnos a nuestro servicio de búsqueda Cortex y agregar el método `retrieve` ."
  },
  {
   "cell_type": "code",
   "id": "6a85de59-5aa5-4345-be63-7b0c45be9742",
   "metadata": {
    "language": "python",
    "name": "cell7"
   },
   "outputs": [],
   "source": "import os\nfrom snowflake.core import Root\nfrom typing import List\nfrom snowflake.snowpark.session import Session\n\nclass CortexSearchRetriever:\n\n    def __init__(self, snowpark_session: Session, limit_to_retrieve: int = 4):\n        self._snowpark_session = snowpark_session\n        self._limit_to_retrieve = limit_to_retrieve\n\n    def retrieve(self, query: str) -> List[str]:\n        root = Root(session)\n\n        search_service = (root\n          .databases[\"curso_ia\"]\n          .schemas[\"seccion_4\"]\n          .cortex_search_services[\"aws_search_service\"]\n        )\n        resp = search_service.search(\n          query=query,\n          columns=[\"chunk\"],\n          limit=self._limit_to_retrieve\n        )\n\n        if resp.results:\n            return [curr[\"chunk\"] for curr in resp.results]\n        else:\n            return []",
   "execution_count": null
  },
  {
   "cell_type": "markdown",
   "id": "7f342e86-4edd-441d-adfb-be891c49786c",
   "metadata": {
    "name": "cell9",
    "collapsed": false
   },
   "source": "Probamos la clase que acabamos de crear realizando una consulta al servicio de Cortex."
  },
  {
   "cell_type": "code",
   "id": "56394ac6-15f6-4bd1-b9e0-fd8876fc0435",
   "metadata": {
    "language": "python",
    "name": "cell8"
   },
   "outputs": [],
   "source": "retriever = CortexSearchRetriever(snowpark_session=session, limit_to_retrieve=2)\n\nretrieved_context = retriever.retrieve(query=\"¿Cuáles servicios serverless de AWS tienes listado?\")\n\nretrieved_context",
   "execution_count": null
  },
  {
   "cell_type": "markdown",
   "id": "b66b1ece-4a78-415d-8d9a-7bd89fc74722",
   "metadata": {
    "name": "cell5",
    "collapsed": false
   },
   "source": "### Habilitar TruLens-OpenTelemetry para rastreo y observabilidad"
  },
  {
   "cell_type": "code",
   "id": "d203883e-b023-4c4d-adb6-d7aa4421789e",
   "metadata": {
    "language": "python",
    "name": "cell10"
   },
   "outputs": [],
   "source": "import os\nos.environ[\"TRULENS_OTEL_TRACING\"] = \"1\"",
   "execution_count": null
  },
  {
   "cell_type": "markdown",
   "id": "409035f8-1b0a-4469-970d-8ad74086b372",
   "metadata": {
    "name": "cell13",
    "collapsed": false
   },
   "source": "Luego, construyamos el sistema RAG con instrumentación integrada utilizando el `retrive` que creamos previamente."
  },
  {
   "cell_type": "code",
   "id": "31e1060f-9605-4c5f-88c9-4219e491170f",
   "metadata": {
    "language": "python",
    "name": "cell14"
   },
   "outputs": [],
   "source": "from snowflake.cortex import complete\nfrom trulens.core.otel.instrument import instrument\nfrom trulens.otel.semconv.trace import SpanAttributes\n\nclass RAG:\n    def __init__(self):\n        self.retriever = CortexSearchRetriever(snowpark_session=session, limit_to_retrieve=4)\n    \n    @instrument(\n        span_type=SpanAttributes.SpanType.RETRIEVAL,\n        attributes={\n            SpanAttributes.RETRIEVAL.QUERY_TEXT: \"query\",\n            SpanAttributes.RETRIEVAL.RETRIEVED_CONTEXTS: \"return\",\n            }\n    )\n    def retrieve_context(self, query: str) -> list:\n        \"\"\"\n        Recupera texto relevante del contenedor de vectores.\n        \"\"\"\n        return self.retriever.retrieve(query)\n    \n    @instrument(\n        span_type=SpanAttributes.SpanType.GENERATION)\n    def generate_completion(self, query: str, context_str: list) -> str:\n        \"\"\"\n        Genera respuesta a partir del contexto.\n        \"\"\"\n        prompt = f\"\"\"\n          Eres un asistente experto que extrae información del contexto proporcionado.\n          Responde la pregunta de forma extensa, completa y detallada, basándote en el contexto. No alucines.\n          Si no tienes la información, simplemente dilo. Si tienes la información que necesitas, solo dime la respuesta.\n          Contexto: {context_str}\n          Pregunta:\n          {query}\n          Respuesta:\n        \"\"\"\n        response = \"\"\n        stream = complete(\"mistral-large2\", prompt, stream = True)\n        for update in stream:    \n          response += update\n          print(update, end = '')\n        return response\n    \n    @instrument(\n        span_type=SpanAttributes.SpanType.RECORD_ROOT, \n        attributes={\n            SpanAttributes.RECORD_ROOT.INPUT: \"query\",\n            SpanAttributes.RECORD_ROOT.OUTPUT: \"return\",\n        })\n    def query(self, query: str) -> str:\n        context_str = self.retrieve_context(query)\n        return self.generate_completion(query, context_str)\n\nrag = RAG()",
   "execution_count": null
  },
  {
   "cell_type": "markdown",
   "id": "d34ddb4e-8bed-483d-bfa7-d40c002a916a",
   "metadata": {
    "name": "cell16",
    "collapsed": false
   },
   "source": "Probemos el sistema RAG consultándolo con una pregunta."
  },
  {
   "cell_type": "code",
   "id": "d4a910a0-805b-4083-9f9e-15a41fdd2a05",
   "metadata": {
    "language": "python",
    "name": "cell15"
   },
   "outputs": [],
   "source": "response = rag.query(\"¿Cuáles son los casos de uso del servicio Lambda?\")",
   "execution_count": null
  },
  {
   "cell_type": "markdown",
   "id": "3f7f4ff4-46d3-4296-ba46-7fd89f825ac6",
   "metadata": {
    "name": "cell17",
    "collapsed": false
   },
   "source": "## Registrar la aplicación\n\nAhora debemos establecer metadatos que incluyan el nombre y la versión de la aplicación, junto con la sesión de Snowpark para almacenar los experimentos."
  },
  {
   "cell_type": "code",
   "id": "9f1c1cc7-6222-4a28-93da-a292b26cf592",
   "metadata": {
    "language": "python",
    "name": "cell18"
   },
   "outputs": [],
   "source": "from trulens.apps.app import TruApp\nfrom trulens.connectors.snowflake import SnowflakeConnector\n\ntru_snowflake_connector = SnowflakeConnector(snowpark_session=session)\n\napp_name = \"aws_search_service_app\"\napp_version = \"1.0.0\"\n\ntru_rag = TruApp(\n        rag,\n        app_name=app_name,\n        app_version=app_version,\n        connector=tru_snowflake_connector\n    )",
   "execution_count": null
  },
  {
   "cell_type": "markdown",
   "id": "3c16254c-f7cf-4642-a541-d533212c7a4d",
   "metadata": {
    "name": "cell19",
    "collapsed": false
   },
   "source": "## Cargar los datos de prueba a Snowflake\n\nPara cargar los datos de prueba que utilizaremos deberá descargar el archivo adjunto como recurso a esta lección `rag_evaluation_dataset.csv` seguir los siguientes pasos para ingestar la información a Snowflake"
  },
  {
   "cell_type": "code",
   "id": "7c6e2e1f-3cef-4e36-84fb-5af845197f1d",
   "metadata": {
    "language": "sql",
    "name": "cell20"
   },
   "outputs": [],
   "source": "-- ============================================================================\n-- DDL para tabla de evaluación RAG en Snowflake\n-- Propósito: Almacenar preguntas y respuestas de referencia para evaluar \n--           el rendimiento de un sistema RAG basado en servicios AWS\n-- ============================================================================\n\n-- Crear la tabla\nCREATE OR REPLACE TABLE curso_ia.seccion_6.rag_evaluation_dataset (\n    QUERY VARCHAR(500) NOT NULL,\n    GROUND_TRUTH_RESPONSE VARCHAR(2000) NOT NULL\n)\nCOMMENT = 'Tabla para almacenar el dataset de evaluación del sistema RAG con preguntas y respuestas de servicios AWS';\n\n-- ============================================================================\n-- Comandos para cargar el CSV\n-- ============================================================================\n\n-- Crear un file format para el CSV\nCREATE OR REPLACE FILE FORMAT curso_ia.seccion_6.csv_format\n    TYPE = 'CSV'\n    FIELD_DELIMITER = ','\n    RECORD_DELIMITER = '\\n'\n    SKIP_HEADER = 1\n    FIELD_OPTIONALLY_ENCLOSED_BY = '\"'\n    TRIM_SPACE = TRUE\n    ERROR_ON_COLUMN_COUNT_MISMATCH = FALSE\n    ESCAPE_UNENCLOSED_FIELD = NONE\n    COMMENT = 'Formato para cargar archivos CSV del dataset RAG';\n\n-- Crear un stage interno para subir el archivo\nCREATE OR REPLACE STAGE curso_ia.seccion_6.rag_dataset_stage\n    DIRECTORY = (ENABLE = TRUE)\n    ENCRYPTION = (TYPE = 'SNOWFLAKE_SSE')\n    FILE_FORMAT = CSV_FORMAT\n    COMMENT = 'Stage interno para cargar el archivo CSV del dataset RAG';\n",
   "execution_count": null
  },
  {
   "cell_type": "markdown",
   "id": "efe65463-4556-4896-9cee-ad12ce9cc1b5",
   "metadata": {
    "name": "cell21",
    "collapsed": false
   },
   "source": "Lugo, debrán subir el archivo `rag_evaluation_dataset.csv` al stage creado a través de Snowsight.\n\nPosteriormente cargaremos la información a la tabla que creamos."
  },
  {
   "cell_type": "code",
   "id": "eb80f58d-6774-48fa-bbda-3e53b1ebc05d",
   "metadata": {
    "language": "sql",
    "name": "cell22"
   },
   "outputs": [],
   "source": "-- Cargar los datos del CSV a la tabla\nCOPY INTO curso_ia.seccion_6.rag_evaluation_dataset (QUERY, GROUND_TRUTH_RESPONSE)\nFROM @curso_ia.seccion_6.rag_dataset_stage/rag_evaluation_dataset.csv\nFILE_FORMAT = CSV_FORMAT\nON_ERROR = 'CONTINUE';",
   "execution_count": null
  },
  {
   "cell_type": "code",
   "id": "bc5607a8-b019-4c63-af85-2366bab72f0d",
   "metadata": {
    "language": "sql",
    "name": "cell23"
   },
   "outputs": [],
   "source": "-- Consultamos la tabla creada\nSELECT * FROM curso_ia.seccion_6.rag_evaluation_dataset LIMIT 10;",
   "execution_count": null
  },
  {
   "cell_type": "markdown",
   "id": "476e9068-af66-4395-80c9-868e7afeb76d",
   "metadata": {
    "name": "cell24",
    "collapsed": false
   },
   "source": "## Crear un ejecución (Run)\n\nPreparemos la configuración para ejecutar experimentos y agreguemos la ejecución a TruLens."
  },
  {
   "cell_type": "code",
   "id": "3086326e-6b19-423d-b358-cdc68a367c68",
   "metadata": {
    "language": "python",
    "name": "cell25"
   },
   "outputs": [],
   "source": "from trulens.core.run import Run\nfrom trulens.core.run import RunConfig\n\nrun_name = \"experimento_1_run\"\n\nrun_config = RunConfig(\n    run_name=run_name,\n    dataset_name=\"curso_ia.seccion_6.rag_evaluation_dataset\",\n    description=\"Preguntas sobre servicios de AWS\",\n    label=\"aws_rag_eval\",\n    source_type=\"TABLE\",\n    dataset_spec={\n        \"input\": \"QUERY\",\n        \"ground_truth_output\":\"GROUND_TRUTH_RESPONSE\",\n    },\n)\n\nrun: Run = tru_rag.add_run(run_config=run_config)",
   "execution_count": null
  },
  {
   "cell_type": "markdown",
   "id": "4046816a-b239-4381-b1bd-beb4c41ddd09",
   "metadata": {
    "name": "cell26",
    "collapsed": false
   },
   "source": "Luego, iniciamos la ejecución del experimento con el conjunto de datos de pruebas preparado. Al hacerlo, se invocará la aplicación en batch utilizando las entradas del conjunto de datos proporcionado durante la ejecución."
  },
  {
   "cell_type": "code",
   "id": "0525da95-5f23-4762-a58d-f1fbf56f546a",
   "metadata": {
    "language": "python",
    "name": "cell27"
   },
   "outputs": [],
   "source": "run.start()",
   "execution_count": null
  },
  {
   "cell_type": "markdown",
   "id": "c1584a67-bebc-4960-bf79-e694ab7979dc",
   "metadata": {
    "name": "cell11",
    "collapsed": false
   },
   "source": "## Cálculo de métricas de evaluación"
  },
  {
   "cell_type": "code",
   "id": "8247764f-7be4-4334-baa7-0d843146bc5c",
   "metadata": {
    "language": "python",
    "name": "cell29",
    "codeCollapsed": false
   },
   "outputs": [],
   "source": "run.compute_metrics([\n    \"answer_relevance\",\n    \"context_relevance\",\n    \"groundedness\",\n])",
   "execution_count": null
  },
  {
   "cell_type": "markdown",
   "id": "e441171d-dffe-4ba3-ab2a-64214eff2711",
   "metadata": {
    "name": "cell28",
    "collapsed": false
   },
   "source": "## Evaluación RAG\n\n![Imagen](https://quickstarts.snowflake.com/guide/getting_started_with_ai_observability/img/2f00466ca5a8244f.png)\n\n### Relevancia del contexto\n\nLa relevancia del contexto determina si el contexto obtenido del recuperador o del servicio de búsqueda es relevante para la consulta del usuario. Dada la consulta del usuario y el contexto obtenido, se utiliza un evaluador LLM para determinar la relevancia del contexto obtenido con base en la consulta.\n\n### Fundamentación\n\nLa fundamentación determina si la respuesta generada se sustenta y se fundamenta en el contexto obtenido del recuperador o del servicio de búsqueda. Dada la respuesta generada y el contexto obtenido, se utiliza un evaluador LLM para determinar la fundamentación. La implementación subyacente utiliza el razonamiento en cadena de pensamiento para generar las puntuaciones de fundamentación.\n\n### Relevancia de la respuesta\n\nLa relevancia de la respuesta determina si la respuesta generada es relevante para la consulta del usuario. Dada la consulta del usuario y la respuesta generada, se utiliza un evaluador LLM para determinar la relevancia de la respuesta al responder a la consulta del usuario. Tenga en cuenta que esto no se basa en la referencia de la respuesta de verdad fundamental y, por lo tanto, no equivale a evaluar la corrección de la respuesta.\n\n## Examinar los resultados\n\nPara ver los resultados de la evaluación, vaya a `Snowsight → IA y ML → Evaluaciones` en el menú lateral."
  }
 ]
}