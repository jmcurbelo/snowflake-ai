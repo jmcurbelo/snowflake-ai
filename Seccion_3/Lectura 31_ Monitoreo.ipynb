{
 "metadata": {
  "kernelspec": {
   "display_name": "Streamlit Notebook",
   "name": "streamlit"
  },
  "lastEditStatus": {
   "notebookId": "fsopdymfhpffv5ajnbxi",
   "authorId": "4679294932002",
   "authorName": "JOSE",
   "authorEmail": "jmoyacurbelo@outlook.com",
   "sessionId": "6dd8d0e3-19fe-4294-8d56-e7888df2065e",
   "lastEditTime": 1747971279920
  }
 },
 "nbformat_minor": 5,
 "nbformat": 4,
 "cells": [
  {
   "cell_type": "markdown",
   "id": "26c7e54e-532a-4439-83a3-b1df1ae68808",
   "metadata": {
    "name": "cell1",
    "collapsed": false
   },
   "source": "Para mejorar la calidad de las respuestas proporcionadas por Cortex Analyst, debemos seguir perfeccionando el modelo semántico. Para ello, Cortex Analyst registra las solicitudes en una tabla de eventos en la base de datos de Snowflake.\n\n**Los logs almacenados incluyen los siguientes aspectos:**\n\n- El usuario que realizó la pregunta\n- La pregunta realizada\n- SQL generado\n- Errores o advertencias\n- Cuerpo de la solicitud y la respuesta\n- Otros metadatos"
  },
  {
   "cell_type": "code",
   "id": "ceaa8db3-b4f7-4bf4-8eeb-734acc29e3ac",
   "metadata": {
    "language": "sql",
    "name": "cell2"
   },
   "outputs": [],
   "source": "-- Monitoreo de Cortex Analyst\n\nUSE DATABASE curso_ia;\nUSE SCHEMA seccion_3;\n\nSELECT * FROM TABLE(\n  SNOWFLAKE.LOCAL.CORTEX_ANALYST_REQUESTS(\n    'FILE_ON_STAGE',\n    '@curso_ia.seccion_3.data_raw/pizza_sales.yaml'\n  )\n);\n",
   "execution_count": null
  }
 ]
}