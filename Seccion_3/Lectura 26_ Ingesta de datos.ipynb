{
 "metadata": {
  "kernelspec": {
   "display_name": "Streamlit Notebook",
   "name": "streamlit"
  },
  "lastEditStatus": {
   "notebookId": "tpnuoh6upwrkt7ozvrtt",
   "authorId": "4679294932002",
   "authorName": "JOSE",
   "authorEmail": "jmoyacurbelo@outlook.com",
   "sessionId": "e00dee64-937a-465d-a767-cca999a295a9",
   "lastEditTime": 1747718568083
  }
 },
 "nbformat_minor": 5,
 "nbformat": 4,
 "cells": [
  {
   "cell_type": "markdown",
   "id": "da3d1743-5869-4dcb-8bc1-d6832a3029d9",
   "metadata": {
    "name": "cell1",
    "collapsed": false
   },
   "source": "En esta lección vamos a ingestar los datos que usaremos para crear un modelo semántico y luego crear una aplicación utilizando Cortex Analyst.\n\nLo primero que realizaremos será crear el esquema correspondiente a esta sección del curso."
  },
  {
   "cell_type": "code",
   "id": "c32dafa4-0e88-4ec1-8b19-232af05d72f1",
   "metadata": {
    "language": "sql",
    "name": "cell2"
   },
   "outputs": [],
   "source": "USE DATABASE curso_ia;\nCREATE OR REPLACE SCHEMA seccion_3;",
   "execution_count": null
  },
  {
   "cell_type": "markdown",
   "id": "333ed216-db4b-46ac-99c9-439fe7037817",
   "metadata": {
    "name": "cell3",
    "collapsed": false
   },
   "source": "A continuación crearemos las tablas necesarias."
  },
  {
   "cell_type": "code",
   "id": "46243056-b605-4b68-86f1-8d3dde78e2ca",
   "metadata": {
    "language": "sql",
    "name": "cell4"
   },
   "outputs": [],
   "source": "-- Establecer el contexto\nUSE DATABASE curso_ia;\nUSE SCHEMA seccion_3;\n\n-- Crear tabla pizza_types\nCREATE OR REPLACE TABLE pizza_types (\n    pizza_type_id VARCHAR(50),\n    name VARCHAR(100),\n    category VARCHAR(50),\n    ingredients VARCHAR(500)\n);\n\n-- Crear tabla pizzas\nCREATE OR REPLACE TABLE pizzas (\n    pizza_id VARCHAR(50),\n    pizza_type_id VARCHAR(50),\n    size VARCHAR(10),\n    price DECIMAL(10,2)\n);\n\n-- Crear tabla orders\nCREATE OR REPLACE TABLE orders (\n    order_id INTEGER,\n    date DATE,\n    time TIME\n);\n\n-- Crear tabla order_details\nCREATE OR REPLACE TABLE order_details (\n    order_details_id INTEGER,\n    order_id INTEGER,\n    pizza_id VARCHAR(50),\n    quantity INTEGER\n);",
   "execution_count": null
  },
  {
   "cell_type": "markdown",
   "id": "0ee11446-df64-46a6-bf41-43c571443e49",
   "metadata": {
    "name": "cell5",
    "collapsed": false
   },
   "source": "El siguiente paso será crear un stage donde cargaremos los datos adjuntos a esta lección para posteriormente ingestarlos a las tablas que hemos creado en el paso previo."
  },
  {
   "cell_type": "code",
   "id": "1e89b48f-6984-4bac-b9c1-21ccdec9a99a",
   "metadata": {
    "language": "sql",
    "name": "cell6"
   },
   "outputs": [],
   "source": "-- Establecer el contexto\nUSE DATABASE curso_ia;\nUSE SCHEMA seccion_3;\n\n-- Crear el stage\nCREATE OR REPLACE STAGE data_raw\nDIRECTORY = (ENABLE = TRUE);",
   "execution_count": null
  },
  {
   "cell_type": "markdown",
   "id": "d04eee01-6d06-47f6-b58f-183cf586f534",
   "metadata": {
    "name": "cell7"
   },
   "source": "El siguiente paso es que ustedes carguen al stage los archivos CSV que están como recursos adjuntos a esta lección. En este paso pueden utilizar la alternativa que deseen: Snowsight, snowSQL o snow CLI.\n\nUna vez que los datos hallan sido cargados al stage vamos a ingestarlos a las tablas que previamente hemos creado."
  },
  {
   "cell_type": "code",
   "id": "96efb7e6-ca5d-4589-bb1d-9a334914773c",
   "metadata": {
    "language": "sql",
    "name": "cell8"
   },
   "outputs": [],
   "source": "-- Cargar datos en la tabla pizza_types\nCOPY INTO pizza_types\nFROM @curso_ia.seccion_3.data_raw/pizza_types.csv\nFILE_FORMAT = (TYPE = CSV FIELD_DELIMITER = ',' SKIP_HEADER = 1 FIELD_OPTIONALLY_ENCLOSED_BY ='\"');",
   "execution_count": null
  },
  {
   "cell_type": "code",
   "id": "184e22d6-5f74-4aca-8812-05bd2c2dece6",
   "metadata": {
    "language": "sql",
    "name": "cell9",
    "codeCollapsed": false
   },
   "outputs": [],
   "source": "-- Cargar datos en la tabla pizzas\nCOPY INTO pizzas\nFROM @curso_ia.seccion_3.data_raw/pizzas.csv\nFILE_FORMAT = (TYPE = CSV FIELD_DELIMITER = ',' SKIP_HEADER = 1 FIELD_OPTIONALLY_ENCLOSED_BY ='\"');\n",
   "execution_count": null
  },
  {
   "cell_type": "code",
   "id": "b13855df-aedc-461c-9305-4137a1e68b43",
   "metadata": {
    "language": "sql",
    "name": "cell10"
   },
   "outputs": [],
   "source": "-- Cargar datos en la tabla orders\nCOPY INTO orders\nFROM @curso_ia.seccion_3.data_raw/orders.csv\nFILE_FORMAT = (TYPE = CSV FIELD_DELIMITER = ',' SKIP_HEADER = 1 FIELD_OPTIONALLY_ENCLOSED_BY ='\"');\n",
   "execution_count": null
  },
  {
   "cell_type": "code",
   "id": "f2267015-84e9-4aa0-b716-5be28d963f7f",
   "metadata": {
    "language": "sql",
    "name": "cell11"
   },
   "outputs": [],
   "source": "-- Cargar datos en la tabla order_details\nCOPY INTO order_details\nFROM @curso_ia.seccion_3.data_raw/order_details.csv\nFILE_FORMAT = (TYPE = CSV FIELD_DELIMITER = ',' SKIP_HEADER = 1 FIELD_OPTIONALLY_ENCLOSED_BY ='\"');",
   "execution_count": null
  },
  {
   "cell_type": "markdown",
   "id": "eda5507c-5728-44d6-8a35-b5a72e0dd30c",
   "metadata": {
    "name": "cell12",
    "collapsed": false
   },
   "source": "Mostramos las tablas."
  },
  {
   "cell_type": "code",
   "id": "94f4317f-a26f-45ed-a083-06961856ee39",
   "metadata": {
    "language": "sql",
    "name": "cell13"
   },
   "outputs": [],
   "source": "SELECT * FROM pizza_types;",
   "execution_count": null
  },
  {
   "cell_type": "code",
   "id": "fd34705d-bcdf-49ad-9ab1-026102acd9a9",
   "metadata": {
    "language": "sql",
    "name": "cell14",
    "codeCollapsed": false
   },
   "outputs": [],
   "source": "SELECT * FROM pizzas;",
   "execution_count": null
  },
  {
   "cell_type": "code",
   "id": "65232ee0-60ce-47d5-8bf2-a4b40da7eef8",
   "metadata": {
    "language": "sql",
    "name": "cell15",
    "codeCollapsed": false
   },
   "outputs": [],
   "source": "SELECT * FROM orders;",
   "execution_count": null
  },
  {
   "cell_type": "code",
   "id": "8a544f3c-eee4-4cb2-8f33-faad56e13aaf",
   "metadata": {
    "language": "sql",
    "name": "cell16"
   },
   "outputs": [],
   "source": "SELECT * FROM order_details;",
   "execution_count": null
  }
 ]
}