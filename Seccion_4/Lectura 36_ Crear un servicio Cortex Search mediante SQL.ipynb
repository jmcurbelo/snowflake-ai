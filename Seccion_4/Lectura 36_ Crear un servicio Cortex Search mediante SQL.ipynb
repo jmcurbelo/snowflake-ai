{
 "metadata": {
  "kernelspec": {
   "display_name": "Streamlit Notebook",
   "name": "streamlit"
  },
  "lastEditStatus": {
   "notebookId": "zrjjih3buc374xkcla5w",
   "authorId": "5639445461508",
   "authorName": "JOSE",
   "authorEmail": "jmoyacurbelo@outlook.com",
   "sessionId": "a0f23327-c00c-43c3-9306-e2ba467995d2",
   "lastEditTime": 1749422421895
  }
 },
 "nbformat_minor": 5,
 "nbformat": 4,
 "cells": [
  {
   "cell_type": "markdown",
   "id": "78eeabc1-d86c-40fe-aa5b-15369cb50c93",
   "metadata": {
    "name": "cell1",
    "collapsed": false
   },
   "source": "En esta lección vamos a ver cómo crear un servicio Cortex Search mediante SQL.\n\nPara el siguiente ejemplo vamos a crear la tabla `opiniones_clientes` la cual contiene opiniones de diversos clientes sobre estufas de gas y sobre ella construiremos el servicio de Cortex Search."
  },
  {
   "cell_type": "code",
   "id": "55e06f0f-f057-46f3-8fbd-8fc5fa79a30f",
   "metadata": {
    "language": "sql",
    "name": "cell2"
   },
   "outputs": [],
   "source": "-- Crear el esquema correspondiente a la sección 4\nCREATE OR REPLACE SCHEMA curso_ia.seccion_4;\n\n\n-- DDL para crear la tabla opiniones_clientes\nCREATE TABLE curso_ia.seccion_4.opiniones_clientes (\n    id_cliente INTEGER,\n    estado VARCHAR(50),\n    opinion_servicio VARCHAR(500)\n);\n\n-- Insertar 7 registros con opiniones variadas sobre estufas de gas\nINSERT INTO opiniones_clientes (id_cliente, estado, opinion_servicio) VALUES\n(1001, 'Ciudad de México', 'Excelente servicio de instalación de estufa de gas. Los técnicos fueron muy profesionales y explicaron todo el proceso de seguridad.'),\n(1002, 'Jalisco', 'La estufa de gas que compramos funciona perfecto, pero el servicio de entrega tardó más de lo prometido. En general satisfecho.'),\n(1003, 'Nuevo León', 'Pésima experiencia con el mantenimiento de mi estufa de gas. El técnico llegó tarde y no solucionó completamente el problema de la flama.'),\n(1004, 'Puebla', 'Muy contento con mi nueva estufa de gas de 6 quemadores. El personal de ventas fue muy atento y me ayudó a elegir el modelo perfecto.'),\n(1005, 'Veracruz', 'El servicio técnico para reparar mi estufa de gas fue rápido y eficiente. Ahora funciona como nueva. Definitivamente recomendaría el servicio.'),\n(1006, 'Guanajuato', 'Regular el servicio. La estufa de gas funciona bien pero tuvimos problemas con la facturación y el servicio al cliente no fue muy útil.'),\n(1007, 'Sonora', 'Horrible experiencia. La estufa de gas llegó con defectos y cuando solicité el cambio, me hicieron dar muchas vueltas. No volvería a comprar aquí.');",
   "execution_count": null
  },
  {
   "cell_type": "markdown",
   "id": "89aad1ca-c31e-44c4-9d41-0712906122fb",
   "metadata": {
    "name": "cell4",
    "collapsed": false
   },
   "source": "Se requiere el seguimiento de cambios para crear el servicio de búsqueda de Cortex. Deben tener en cuenta que si van a usar un rol que no sea owner de la tabla para crear el servicio de búsqueda, deben ejecutar la siguiente instrucción para habilitar el seguimiento de cambios en la tabla."
  },
  {
   "cell_type": "code",
   "id": "26233205-d8ab-4fe5-aff2-5e4abed6333c",
   "metadata": {
    "language": "sql",
    "name": "cell3"
   },
   "outputs": [],
   "source": "ALTER TABLE curso_ia.seccion_4.opiniones_clientes SET\n  CHANGE_TRACKING = TRUE;",
   "execution_count": null
  },
  {
   "cell_type": "markdown",
   "id": "f126f8df-b2ff-4ae5-b1b6-b57d82b8df9b",
   "metadata": {
    "name": "cell5",
    "collapsed": false
   },
   "source": "### Crear el servicio\n\nPuede crear un servicio de búsqueda de Cortex con una sola consulta SQL. Al crear un servicio de búsqueda de Cortex, Snowflake realiza transformaciones en los datos de origen para prepararlos para un servicio de baja latencia.\n\nEl siguiente ejemplo demuestra cómo crear un servicio de búsqueda Cortex con `CREATE CORTEX SEARCH SERVICE` en la tabla que acabamos de crear.\n\n\n**Nota:** Al crear un servicio de búsqueda, el índice de búsqueda se construye como parte del proceso. Esto significa que la instrucción `CREATE CORTEX SEARCH SERVICE` puede tardar más en completarse para conjuntos de datos más grandes.\n\nPrimero crearemos un warehouse dedicado para el servicio de Cortex que crearemos posteriormente."
  },
  {
   "cell_type": "code",
   "id": "55025aa7-fd95-4c63-b61a-605bc4665a26",
   "metadata": {
    "language": "sql",
    "name": "cell8"
   },
   "outputs": [],
   "source": "-- Crear un warehouse para el servicio de Cortex Search\nCREATE OR REPLACE WAREHOUSE search_service_wh\n  WAREHOUSE_TYPE = STANDARD\n  WAREHOUSE_SIZE =  MEDIUM \n  SCALING_POLICY = STANDARD\n  AUTO_SUSPEND = 300\n  AUTO_RESUME = TRUE \n  INITIALLY_SUSPENDED = TRUE\n  COMMENT = 'Warehouse para el servicio de Cortex Search';",
   "execution_count": null
  },
  {
   "cell_type": "code",
   "id": "126e456a-e406-4705-8a55-329aa8b17efb",
   "metadata": {
    "language": "sql",
    "name": "cell6"
   },
   "outputs": [],
   "source": "CREATE OR REPLACE CORTEX SEARCH SERVICE opiniones_search_service\n  ON opinion_servicio\n  ATTRIBUTES estado\n  WAREHOUSE = search_service_wh\n  TARGET_LAG = '1 day'\n  EMBEDDING_MODEL = 'voyage-multilingual-2'\n  AS (\n    SELECT\n        opinion_servicio,\n        estado,\n        id_cliente\n    FROM curso_ia.seccion_4.opiniones_clientes\n);",
   "execution_count": null
  },
  {
   "cell_type": "markdown",
   "id": "9bc1d4e6-ddab-4000-b429-eed565184fbe",
   "metadata": {
    "name": "cell7",
    "collapsed": false
   },
   "source": "El comando anterior inicia la creación del servicio de búsqueda de nuestros datos. En este ejemplo:\n\n- Las consultas al servicio buscarán coincidencias en la columna `opinion_servicio`.\n- El parámetro `TARGET_LAG` indica que el servicio de búsqueda de Cortex comprobará las actualizaciones de la tabla base `opiniones_clientes` aproximadamente una vez al día.\n- Las columnas `estado` y `id_cliente` se indexarán para que puedan devolverse junto con los resultados de las consultas en la columna `opiniones_clientes`.\n- La columna `estado` estará disponible como columna de filtro al consultar la columna transcript_text.\n- El warehouse `compute_wh` se utilizará para materializar los resultados de la consulta especificada inicialmente y cada vez que se modifique la tabla base.\n\n### Notas\n\n- Dependiendo del tamaño del warehouse especificado en la consulta y del número de filas de la tabla, este comando `CREATE` puede tardar varias horas en completarse.\n- Snowflake recomienda utilizar un warehouse dedicado de tamaño no superior a `MEDIUM` para cada servicio.\n- Las columnas del campo `ATTRIBUTES` deben incluirse en la consulta de origen, ya sea mediante una enumeración explícita o un comodín (*).\n\n### Vista previa del servicio\n\nPara confirmar que el servicio se ha rellenado correctamente con datos, podemos obtener una vista previa del servicio mediante la función `SEARCH_PREVIEW` como se muestra a continuación."
  },
  {
   "cell_type": "code",
   "id": "0fdcd594-e915-4bbc-9cad-4b0fbf7303d4",
   "metadata": {
    "language": "sql",
    "name": "cell9"
   },
   "outputs": [],
   "source": "SELECT PARSE_JSON(\n  SNOWFLAKE.CORTEX.SEARCH_PREVIEW(\n      'curso_ia.seccion_4.opiniones_search_service',\n      '{\n        \"query\": \"personal de ventas\",\n        \"columns\":[\n            \"opinion_servicio\",\n            \"estado\"\n        ],\n        \"filter\": {\"@eq\": {\"estado\": \"Puebla\"} },\n        \"limit\":1\n      }'\n  )\n)['results'] as results;",
   "execution_count": null
  },
  {
   "cell_type": "markdown",
   "id": "a1a2bc7a-cc66-422a-aaec-89dc79c31588",
   "metadata": {
    "name": "cell10",
    "collapsed": false
   },
   "source": "Esta respuesta confirma que el servicio cuenta con datos y ofrece resultados para la consulta proporcionada. También podemos usar la función de tabla `CORTEX_SEARCH_DATA_SCAN` para inspeccionar el contenido del servicio. Veamos un ejemplo:"
  },
  {
   "cell_type": "code",
   "id": "a2224cdb-f7ae-4f35-b3ab-e3a8b5cdf58c",
   "metadata": {
    "language": "sql",
    "name": "cell11"
   },
   "outputs": [],
   "source": "SELECT\n*\nFROM\n  TABLE (\n    CORTEX_SEARCH_DATA_SCAN (\n      SERVICE_NAME => 'opiniones_search_service'\n    )\n  );",
   "execution_count": null
  }
 ]
}