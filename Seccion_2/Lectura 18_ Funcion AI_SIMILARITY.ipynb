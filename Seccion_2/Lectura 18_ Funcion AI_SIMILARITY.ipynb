{
 "metadata": {
  "kernelspec": {
   "display_name": "Streamlit Notebook",
   "name": "streamlit"
  },
  "lastEditStatus": {
   "notebookId": "eb7h4rsu3exk63ckwlki",
   "authorId": "5639445461508",
   "authorName": "JOSE",
   "authorEmail": "jmoyacurbelo@outlook.com",
   "sessionId": "37b57ebc-84e9-418f-863b-b3f490d43ddb",
   "lastEditTime": 1749325138277
  }
 },
 "nbformat_minor": 5,
 "nbformat": 4,
 "cells": [
  {
   "cell_type": "markdown",
   "id": "f4a5f118-55c6-4c4a-901f-b15382a58a98",
   "metadata": {
    "name": "cell1",
    "collapsed": false
   },
   "source": "La función `AI_SIMILARITY` calcula una puntuación de similitud basada en el valor de similitud del coseno vectorial de los vectores embedding de las entradas. Actualmente admite el cálculo de similitud de texto e imagen.\n\n### Sintaxis\n\nAplicar `AI_SIMILARITY` a entradas de tipo string o imagen\n\n```sql\nAI_SIMILARITY( <input1>, <input2> )\n```\n\nEspecificando el objeto de configuración:\n\n```sql\nAI_SIMILARITY( <input1>, <input2>, <config_object> )\n```\n\n### Argumentos\n\nObligatorio:\n\nSi se especifican textos de entrada:\n\n- `<input1>, {input2}`(Obligatorio): Los strings con el texto que se desea comparar. Se utilizan para calcular la puntuación de similitud.\n\nSi se especifican imágenes de entrada:\n\n`<input1>, <input2>`(Obligatorio): Tipo de dato `FILE` que hace referencia a las imágenes que se van a comparar.\n\n- `config_object`(Opcional): Un `OBJETO` que contiene pares clave-valor utilizados para configurar el modelo.\n\nPara ver la lista de modelos soportados y sus correspondientes valores por defecto consultar la documentación de Snowflake. [Lista de modelos](https://docs.snowflake.com/en/sql-reference/functions/ai_similarity).\n\n### Nota\n\n`AI_SIMILARITY` no permite calcular la similitud entre entradas de texto e imágenes.\n\n### Retorno\n\nDevuelve un valor float de -1 a 1 que representa la puntuación de similitud calculada mediante la similitud vectorial entre dos vectores de  embedding para las entradas.\n\n### **`AI_SIMILARITY`: Texto**\n\nEn este ejemplo, la función calcula una puntuación de similitud entre las dos entradas  \"Me gusta esa casa\" y \"Esa casa es muy buena\"."
  },
  {
   "cell_type": "code",
   "id": "fc5153ce-f78a-4287-a7ed-675039962840",
   "metadata": {
    "language": "sql",
    "name": "cell2"
   },
   "outputs": [],
   "source": "SELECT AI_SIMILARITY('Me gusta esa casa', 'Esa casa es muy buena');",
   "execution_count": null
  },
  {
   "cell_type": "markdown",
   "id": "3ee179e4-968f-4d92-b1e4-3c0bcbb0e073",
   "metadata": {
    "name": "cell3",
    "collapsed": false
   },
   "source": "También podemos calcular la similitud en columnas de texto."
  },
  {
   "cell_type": "code",
   "id": "0382f0f0-5fcf-4e90-8557-1242d65a84f4",
   "metadata": {
    "language": "sql",
    "name": "cell4"
   },
   "outputs": [],
   "source": "SELECT\n    transcripcion_llamada,\n    SNOWFLAKE.CORTEX.AI_SIMILARITY(transcripcion_llamada, 'Buen servicio al cliente') AS similitud\nFROM curso_ia.seccion_2.transcripciones\nORDER BY similitud DESC;",
   "execution_count": null
  },
  {
   "cell_type": "markdown",
   "id": "f1d32a8e-acde-406b-b81d-dca0769b92b4",
   "metadata": {
    "name": "cell5",
    "collapsed": false
   },
   "source": "### **`AI_SIMILARITY`: Imágenes**\n\nEn este ejemplo, la función calcula una puntuación de similitud entre las dos imágenes, `perro1.png` y `perro2.jpg`, almacenadas en el stage que hemos creado previamente."
  },
  {
   "cell_type": "code",
   "id": "18192db7-b6bc-4d38-b820-c76346ee36c6",
   "metadata": {
    "language": "sql",
    "name": "cell6"
   },
   "outputs": [],
   "source": "USE DATABASE curso_ia;\nUSE SCHEMA seccion_2;\n\nSELECT AI_SIMILARITY(TO_FILE('@imagenes', 'perro1.png'), TO_FILE('@imagenes', 'perro2.jpg')) AS similitud;",
   "execution_count": null
  },
  {
   "cell_type": "markdown",
   "id": "12138a5f-f62e-4774-9bbf-afe0504bdc47",
   "metadata": {
    "name": "cell7",
    "collapsed": false
   },
   "source": "Realicemos otra comparación entre dos imágenes para comparar comprobar como esta vez la similitud es mucho menor. En este caso vamos a comparar la imagen `soumaya.jpg` y `perro1.png`."
  },
  {
   "cell_type": "code",
   "id": "934dff38-9d03-459c-83e4-4439ba1401f2",
   "metadata": {
    "language": "sql",
    "name": "cell8"
   },
   "outputs": [],
   "source": "USE DATABASE curso_ia;\nUSE SCHEMA seccion_2;\n\nSELECT AI_SIMILARITY(TO_FILE('@imagenes', 'soumaya.jpg'), TO_FILE('@imagenes', 'perro1.png')) AS similitud;",
   "execution_count": null
  },
  {
   "cell_type": "markdown",
   "id": "87b6d028-7e50-4256-a368-143d9faeb9bc",
   "metadata": {
    "name": "cell9",
    "collapsed": false
   },
   "source": "## Limitaciones\n\n- Las funciones de Snowflake AI no admiten la actualización incremental de tablas dinámicas.\n- Las funciones de Snowflake AI no funcionan con objetos `FILE` creados a partir de archivos en los siguientes tipos de stages:\n    - Internal stage con modo de cifrado `TYPE = 'SNOWFLAKE_FULL'`\n    - External stage con cualquier modo de cifrado del lado del cliente:\n        - `TYPE = 'AWS_CSE'`\n        - `TYPE = 'AZURE_CSE'`\n    - Stage de usuario\n    - Stage de tabla\n    - Stage con nombres entre comillas dobles"
  }
 ]
}