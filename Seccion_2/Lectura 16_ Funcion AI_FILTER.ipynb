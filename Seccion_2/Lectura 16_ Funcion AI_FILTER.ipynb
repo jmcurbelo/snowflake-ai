{
 "metadata": {
  "kernelspec": {
   "display_name": "Streamlit Notebook",
   "name": "streamlit"
  },
  "lastEditStatus": {
   "notebookId": "ctug5ip6vjw6qh6nc5tu",
   "authorId": "5639445461508",
   "authorName": "JOSE",
   "authorEmail": "jmoyacurbelo@outlook.com",
   "sessionId": "fa213aa2-8095-491a-971c-984b95512b00",
   "lastEditTime": 1749305574678
  }
 },
 "nbformat_minor": 5,
 "nbformat": 4,
 "cells": [
  {
   "cell_type": "markdown",
   "id": "15d2c3ca-b097-4790-b991-0e2f80776a45",
   "metadata": {
    "name": "cell1",
    "collapsed": false
   },
   "source": "La función `AI_FILTER`  devuelve Verdadero o Falso para una entrada de texto o imagen determinada, lo que nos permite filtrar resultados en cláusulas `SELECT`, `WHERE` o `JOIN ... ON`.\n\n### Sintaxis\n\nAplicar `AI_FILTER` a un string:\n\n```sql\nAI_FILTER( <input> )\n```\n\nAplicar `AI_FILTER` a una sola imagen:\n\n```sql\nAI_FILTER( <predicate> , <input> )\n```\n\nAplicar `AI_FILTER` a varias columnas con texto e imágenes, aprovechando la función `PROMPT`:\n\n```sql\nAI_FILTER( PROMPT('<template_string>',  <col_1>, … ) )\n```\n\n### Notas de uso\n\nPara un rendimiento óptimo, debemos seguir estas pautas:\n\n- Asegúrese de que las columnas enviadas a `AI_FILTER` no contengan valores `NULL`.\n- Utilice texto sin formato en inglés para la cadena de entrada o para los argumentos de `PROMPT()`.\n- Proporcione detalles para la instrucción del texto de entrada. Por ejemplo, en lugar de una declaración como \"parece satisfecho\", utilice \"En la siguiente transcripción de soporte, el cliente parece satisfecho\".\n- Considere formular la entrada en forma de pregunta. Por ejemplo, \"En la siguiente transcripción de soporte, ¿parece satisfecho el cliente?\"\n\n## Ejemplos\n\n### **AI_FILTER: Texto**"
  },
  {
   "cell_type": "code",
   "id": "eb9ac3f2-f68b-4d38-ade2-c50bdc1b4fcd",
   "metadata": {
    "language": "sql",
    "name": "cell2"
   },
   "outputs": [],
   "source": "SELECT AI_FILTER('¿Las pirámides del sol y la luna están ubicadas en Egipto?');",
   "execution_count": null
  },
  {
   "cell_type": "code",
   "id": "3d806d50-ac5c-455c-9b78-cc0e681af4fe",
   "metadata": {
    "language": "sql",
    "name": "cell3"
   },
   "outputs": [],
   "source": "SELECT AI_FILTER('¿Las pirámides del sol y la luna están ubicadas en México?');",
   "execution_count": null
  },
  {
   "cell_type": "markdown",
   "id": "1cd54119-0d53-4628-856b-2d90817a8925",
   "metadata": {
    "name": "cell4",
    "collapsed": false
   },
   "source": "Podemos concatenar instrucciones con columnas de texto para usar esta función."
  },
  {
   "cell_type": "code",
   "id": "637433b8-889d-4576-98b2-1c85b616bfd6",
   "metadata": {
    "language": "sql",
    "name": "cell6"
   },
   "outputs": [],
   "source": "-- Creamos una tabla\nCREATE TABLE curso_ia.seccion_2.reviews (\n    user_id STRING,\n    review STRING\n);",
   "execution_count": null
  },
  {
   "cell_type": "code",
   "id": "48b82a19-189b-401f-8b70-f1aecf3e9874",
   "metadata": {
    "language": "sql",
    "name": "cell7",
    "collapsed": false,
    "codeCollapsed": false
   },
   "outputs": [],
   "source": "-- Insertamos algunos valores en la tabla\nINSERT INTO curso_ia.seccion_2.reviews (user_id, review) VALUES\n('user_001', 'Increíble experiencia en el parque! Las montañas rusas son espectaculares y el personal muy amable. Definitivamente regresaré con mi familia.'),\n('user_002', 'Pasamos un día fantástico. Los juegos están muy bien mantenidos y hay opciones para todas las edades. La comida también estuvo deliciosa.'),\n('user_003', 'Me encantó la nueva atracción de realidad virtual. El parque está muy limpio y organizado. Los precios son justos para la calidad que ofrecen.'),\n('user_004', 'Muy decepcionante mi visita. Las filas eran extremadamente largas, varios juegos estaban cerrados por mantenimiento y el personal parecía desinteresado. No creo que valga la pena el precio de entrada.');",
   "execution_count": null
  },
  {
   "cell_type": "markdown",
   "id": "b6aa06e7-a966-40ec-8e83-08b19668a55c",
   "metadata": {
    "name": "cell8",
    "collapsed": false
   },
   "source": "A continuación vamos a filtrar la tabla de reviews utilizando la función `AI_FILTER` dentro de la cláusula `WHERE`."
  },
  {
   "cell_type": "code",
   "id": "319645e9-1b34-4366-9d78-5653cbcfe4b9",
   "metadata": {
    "language": "sql",
    "name": "cell5"
   },
   "outputs": [],
   "source": "SELECT * FROM curso_ia.seccion_2.reviews\nWHERE AI_FILTER(CONCAT('¿Al visitante le gustó el parque de diversiones?', review));",
   "execution_count": null
  },
  {
   "cell_type": "markdown",
   "id": "b3d72051-1001-41c9-8db7-28705054627f",
   "metadata": {
    "name": "cell9",
    "collapsed": false
   },
   "source": "Para facilitar el formato de plantilla en varias columnas, Snowflake proporciona la función `PROMPT`; por ejemplo:"
  },
  {
   "cell_type": "code",
   "id": "7b634293-4e2f-42cc-a625-ac238c20b3dd",
   "metadata": {
    "language": "sql",
    "name": "cell10"
   },
   "outputs": [],
   "source": "SELECT * FROM curso_ia.seccion_2.reviews\nWHERE AI_FILTER(PROMPT('¿Al visitante {0} no le gustó el parque de diversiones?', review));",
   "execution_count": null
  },
  {
   "cell_type": "markdown",
   "id": "a1ae609d-3962-4527-8203-da584e2cb31c",
   "metadata": {
    "name": "cell11",
    "collapsed": false
   },
   "source": "## `AI_FILTER` con un JOIN\n\nPodemos utilizar `AI_FILTER` con un JOIN para expresar la vinculación de dos tablas con un prompt en lenguaje natural que la IA pueda razonar.\n\nPara mostrar esta funcionalidad vamos a crear dos tablas, `candidatos` y `trabajos`. Luego insertaremos algunos valores an ambas tablas y finalmente utilizaremos `AI_FILTER` en el JOIN."
  },
  {
   "cell_type": "code",
   "id": "fa97f556-e25a-4556-88bd-fef3b09ab77c",
   "metadata": {
    "language": "sql",
    "name": "cell13"
   },
   "outputs": [],
   "source": "-- Tabla candidatos\nCREATE TABLE curso_ia.seccion_2.candidatos (\n    id_candidato STRING,\n    cv STRING\n);\n\nINSERT INTO curso_ia.seccion_2.candidatos (id_candidato, cv) VALUES\n('CAND_001', 'Desarrollador Full Stack con 5 años de experiencia en JavaScript, React, Node.js y Python. Especializado en desarrollo web y aplicaciones móviles. Certificado en AWS y experiencia con bases de datos SQL y NoSQL.'),\n('CAND_002', 'Ingeniero en Datos con 4 años de experiencia en ETL, Apache Spark, Snowflake y Tableau. Experto en Python, SQL y machine learning. Experiencia trabajando con grandes volúmenes de datos en la nube.'),\n('CAND_003', 'DevOps Engineer con 6 años de experiencia en automatización, CI/CD, Docker, Kubernetes y cloud computing (AWS, Azure). Conocimientos en scripting con Bash y Python, monitoreo con Grafana y Prometheus.'),\n('CAND_004', 'Licenciado en Literatura con Maestría en Comunicación. 8 años de experiencia en redacción de contenidos, copywriting, corrección de estilo y gestión editorial. Especializado en marketing de contenidos y storytelling corporativo.'),\n('CAND_005', 'Ejecutivo de Ventas con 7 años de experiencia en B2B y B2C. Experto en CRM (Salesforce), prospección, negociación y cierre de ventas. Historial comprobado de superar metas trimestrales en un 120% promedio.');",
   "execution_count": null
  },
  {
   "cell_type": "code",
   "id": "4dc835ae-92d4-4d28-8116-26ff4c6f7020",
   "metadata": {
    "language": "sql",
    "name": "cell16"
   },
   "outputs": [],
   "source": "SELECT * FROM curso_ia.seccion_2.candidatos;",
   "execution_count": null
  },
  {
   "cell_type": "code",
   "id": "db0c83dd-fa8c-4ce9-b00f-336d634b41ec",
   "metadata": {
    "language": "sql",
    "name": "cell14"
   },
   "outputs": [],
   "source": "-- Tabla trabajos\nCREATE TABLE curso_ia.seccion_2.trabajos (\n    identificador_trabajo STRING,\n    descripcion_trabajo STRING\n);\n\nINSERT INTO curso_ia.seccion_2.trabajos (identificador_trabajo, descripcion_trabajo) VALUES\n('JOB_TEC_001', 'Desarrollador Senior - Buscamos desarrollador full stack para liderar proyectos web usando React, Node.js y bases de datos relacionales. Experiencia mínima 3 años y conocimientos en cloud computing.'),\n('JOB_DATA_002', 'Analista de Datos - Posición para profesional con experiencia en ETL, SQL, Python y herramientas de visualización como Tableau o Power BI. Trabajo con big data en plataformas cloud.'),\n('JOB_SALES_003', 'Gerente de Ventas Regional - Ejecutivo comercial para liderar equipo de ventas B2B. Experiencia comprobada en CRM, negociación y cumplimiento de objetivos. Sector tecnológico preferible.');",
   "execution_count": null
  },
  {
   "cell_type": "code",
   "id": "eb94407f-49b4-4484-a817-97211f685d46",
   "metadata": {
    "language": "sql",
    "name": "cell15"
   },
   "outputs": [],
   "source": "SELECT * FROM curso_ia.seccion_2.trabajos;",
   "execution_count": null
  },
  {
   "cell_type": "code",
   "id": "46a65577-4ae7-45b6-8399-67b5db6b28f1",
   "metadata": {
    "language": "sql",
    "name": "cell12"
   },
   "outputs": [],
   "source": "USE DATABASE curso_ia;\nUSE SCHEMA seccion_2;\n\n-- Utilizar AI_FILTER en el JOIN\n\nSELECT *\nFROM candidatos\nJOIN trabajos\nON AI_FILTER(PROMPT('Evalúa si este currículum {0} se ajusta a esta descripción de trabajo {1}', candidatos.cv, trabajos.descripcion_trabajo));",
   "execution_count": null
  },
  {
   "cell_type": "markdown",
   "id": "e539ba1b-4e9a-4fe5-bd23-0c3062212750",
   "metadata": {
    "name": "cell17",
    "collapsed": false
   },
   "source": "## **`AI_FILTER`: Imágenes**"
  },
  {
   "cell_type": "code",
   "id": "ec84b101-9dd3-48cb-a9f8-5a467f9d49a7",
   "metadata": {
    "language": "sql",
    "name": "cell18"
   },
   "outputs": [],
   "source": "SELECT * FROM curso_ia.seccion_2.image_table\nWHERE AI_FILTER(PROMPT('{0} es una imagen de perros', img));",
   "execution_count": null
  },
  {
   "cell_type": "markdown",
   "id": "7d1c9511-4190-4f32-a640-dbb087cf257c",
   "metadata": {
    "name": "cell19",
    "collapsed": false
   },
   "source": "## Limitaciones\n\n- Las funciones de Snowflake AI no admiten la actualización incremental de tablas dinámicas.\n- Las funciones de Snowflake AI no funcionan con objetos `FILE` creados a partir de archivos en los siguientes tipos de stages:\n    - Internal stage con modo de cifrado `TYPE = 'SNOWFLAKE_FULL'`\n    - External stage con cualquier modo de cifrado del lado del cliente:\n        - `TYPE = 'AWS_CSE'`\n        - `TYPE = 'AZURE_CSE'`\n    - Stage de usuario\n    - Stage de tabla\n    - Stage con nombres entre comillas dobles"
  }
 ]
}