{
 "metadata": {
  "kernelspec": {
   "display_name": "Streamlit Notebook",
   "name": "streamlit"
  },
  "lastEditStatus": {
   "notebookId": "xvahg4xucinc6zaoruts",
   "authorId": "4679294932002",
   "authorName": "JOSE",
   "authorEmail": "jmoyacurbelo@outlook.com",
   "sessionId": "be9f31c3-a3d2-4982-88e9-25e0b7d0c806",
   "lastEditTime": 1746678906798
  }
 },
 "nbformat_minor": 5,
 "nbformat": 4,
 "cells": [
  {
   "cell_type": "markdown",
   "id": "5bf5e20a-c20d-4d62-9a93-65662bd0baa0",
   "metadata": {
    "name": "cell1",
    "collapsed": false
   },
   "source": "La función `EXTRACT_ANSWER` extrae la respuesta a una pregunta de un texto.\n\n### Sintaxis\n\n```sql\nSNOWFLAKE.CORTEX.EXTRACT_ANSWER(\n    <source_document>, <question>)\n```\n\n### Ejemplo"
  },
  {
   "cell_type": "code",
   "id": "6c1c16d5-27fb-4cbc-940c-beb3309c5a6b",
   "metadata": {
    "language": "sql",
    "name": "cell2"
   },
   "outputs": [],
   "source": "SELECT SNOWFLAKE.CORTEX.EXTRACT_ANSWER(\n    'La fotosíntesis es el proceso mediante el cual las plantas transforman la luz solar, el dióxido de carbono y el agua en energía y oxígeno. Este fenómeno es esencial para la vida en la Tierra, ya que no solo alimenta a las plantas, sino que también produce el oxígeno que respiran los seres vivos. Sin la fotosíntesis, los ecosistemas colapsarían y la vida tal como la conocemos desaparecería.',\n    '¿Por qué es importante la fotosíntesis para los seres vivos que no son plantas?');",
   "execution_count": null
  },
  {
   "cell_type": "markdown",
   "id": "844d0844-1884-4280-a08d-1f5b444df48b",
   "metadata": {
    "name": "cell4",
    "collapsed": false
   },
   "source": "### Función `EXTRACT_ANSWER` en Python\n\nEn Python es muy sencillo tambien utilizar esta función como se muestra en el siguiente ejemplo."
  },
  {
   "cell_type": "code",
   "id": "f9f0146e-4d39-4dfa-8221-f21c930c4f97",
   "metadata": {
    "language": "python",
    "name": "cell3"
   },
   "outputs": [],
   "source": "# Importar las liberías\nfrom snowflake.snowpark.context import get_active_session\nfrom snowflake.cortex import extract_answer\n\n\n# Obtener la sesión de snowpark activa\nsession = get_active_session()",
   "execution_count": null
  },
  {
   "cell_type": "code",
   "id": "8a80ef49-a53b-4982-ac69-1a16fd9059af",
   "metadata": {
    "language": "python",
    "name": "cell5",
    "codeCollapsed": false
   },
   "outputs": [],
   "source": "# Creamos un texto y una pregunta\n\ntexto = \"\"\"\nEl reciclaje es fundamental para reducir la contaminación ambiental. Muchos materiales como el\nplástico, el vidrio y el papel pueden reutilizarse en nuevos productos. Si todos recicláramos \ncorrectamente, disminuiríamos significativamente la cantidad de residuos en vertederos.\n\"\"\"\n\npregunta = '¿Qué materiales menciona el texto que pueden reciclarse?'",
   "execution_count": null
  },
  {
   "cell_type": "code",
   "id": "bf556b3e-4d61-47d5-8c28-e7496fa3a703",
   "metadata": {
    "language": "python",
    "name": "cell6",
    "codeCollapsed": false
   },
   "outputs": [],
   "source": "# Utilizamos extract_answer para responder la pregunta\n\nprint(extract_answer(texto, pregunta))",
   "execution_count": null
  }
 ]
}