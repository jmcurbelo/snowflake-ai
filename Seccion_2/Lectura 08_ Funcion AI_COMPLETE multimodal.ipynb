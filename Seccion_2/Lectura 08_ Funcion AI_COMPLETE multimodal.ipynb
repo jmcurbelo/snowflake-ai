{
 "metadata": {
  "kernelspec": {
   "display_name": "Streamlit Notebook",
   "name": "streamlit"
  },
  "lastEditStatus": {
   "notebookId": "sbwtljizguqtpfl5q3yx",
   "authorId": "5639445461508",
   "authorName": "JOSE",
   "authorEmail": "jmoyacurbelo@outlook.com",
   "sessionId": "f4068765-dea3-4955-ba35-789fedd3086f",
   "lastEditTime": 1749253343336
  }
 },
 "nbformat_minor": 5,
 "nbformat": 4,
 "cells": [
  {
   "cell_type": "markdown",
   "id": "31624d29-7e90-4617-b82f-0576761ddae6",
   "metadata": {
    "name": "cell1",
    "collapsed": false
   },
   "source": "En esta lección veremos como utilizar la función `AI_COMPLETE` pasándole una imagen y un prompt y además un prompt tipo objeto que admita varias imágenes y texto. \n\n## Imagen y un prompt\n\n### Sintaxis\n\nLa función contiene dos argumentos obligatorios y cuatro opcionales. La sintaxis para el uso de `AI_COMPLETE` con una sola imagen como entrada es la siguiente:\n\n```sql\nAI_COMPLETE(\n    <model>, <prompt>, <file> [, <model_parameters> ] )\n```\n\n### Modelos disponibles\n\n- `claude-4-opus`\n- `claude-4-sonnet`\n- `claude-3-7-sonnet`\n- `claude-3-5-sonnet`\n- `llama-4-maverick`\n- `llama-4-scout`\n- `pixtral-large`\n\n### Notas de uso\n\n- Solo se admiten texto e imágenes. No se admiten archivos de vídeo ni audio.\n- Se admiten imágenes con extensiones de archivo .jpg, .jpeg, .png, .gif y .webp. `pixtral-large` y `llama4` también admite .bmp.\n- El tamaño máximo de la imagen es de 10 MB para la mayoría de los modelos y de 3,75 MB para los modelos Claude. Los modelos Claude no admiten imágenes con resoluciones superiores a 8000x8000.\n- El stage que contiene las imágenes debe tener habilitado el cifrado del lado del servidor. No se admiten stages cifrados del lado del cliente.\n- La función no admite políticas de red personalizadas.\n- En los nombres de los stages no hay diferencias entre mayúsculas y minúsculas, pero en las rutas sí.\n\n### Ejemplos\n\nPara estos ejemplos vamos a crear un stage que cumpla con las características necesarias y luego cargaremos a ese stage las imagenes que usaremos para los ejemplos."
  },
  {
   "cell_type": "code",
   "id": "7c315739-a78a-44f1-9ca6-ba0e56a60d7a",
   "metadata": {
    "language": "sql",
    "name": "cell2"
   },
   "outputs": [],
   "source": "-- Crear un internal stage con directory table activado y encriptación del lado del servidor\n\nCREATE OR REPLACE STAGE curso_ia.seccion_2.imagenes\n DIRECTORY = (ENABLE = TRUE)\n ENCRYPTION = (TYPE = 'SNOWFLAKE_SSE');",
   "execution_count": null
  },
  {
   "cell_type": "markdown",
   "id": "336583bf-8b30-4582-92e8-9be5ee105202",
   "metadata": {
    "name": "cell3",
    "collapsed": false
   },
   "source": "**En este paso usted debe descargar las imágenes adjuntas como recurso a esta lección y cargarlas al stage que acabamos de crear.**"
  },
  {
   "cell_type": "code",
   "id": "30d8076b-868a-4c90-b4b7-6cb9f733cdbf",
   "metadata": {
    "language": "sql",
    "name": "cell4"
   },
   "outputs": [],
   "source": "USE DATABASE curso_ia;\nUSE SCHEMA seccion_2;\n\nSELECT AI_COMPLETE('claude-3-5-sonnet',\n    'Durante los primeros 200 días de mandato, ¿qué presidente logró que el SP500 tuviera un mejor desempeño?',\n    TO_FILE('@IMAGENES', 'inaguration_day.png'));",
   "execution_count": null
  },
  {
   "cell_type": "markdown",
   "id": "08a150f1-72a4-44c0-8127-e614916bdc38",
   "metadata": {
    "name": "cell6",
    "collapsed": false
   },
   "source": "**Clasificación de imágenes**\n\nEste ejemplo clasifica el punto de referencia identificado en una sola imagen."
  },
  {
   "cell_type": "code",
   "id": "84ad91cb-3c73-45ba-8b71-f46c9646d7c8",
   "metadata": {
    "language": "sql",
    "name": "cell5"
   },
   "outputs": [],
   "source": "USE DATABASE curso_ia;\nUSE SCHEMA seccion_2;\n\nSELECT AI_COMPLETE('claude-3-5-sonnet',\n    'Clasifique el punto de referencia identificado en esta imagen. Responda en JSON solo con el nombre del punto de referencia.',\n    TO_FILE('@imagenes', 'soumaya.jpg'));",
   "execution_count": null
  },
  {
   "cell_type": "markdown",
   "id": "102e203f-5de6-417f-86a1-9f6d69734a72",
   "metadata": {
    "name": "cell7",
    "collapsed": false
   },
   "source": "**Extracción de entidades de una imagen**\n\nEste ejemplo extrae las entidades (objetos) de una imagen y devuelve los resultados en formato JSON."
  },
  {
   "cell_type": "code",
   "id": "ffce3768-9a7b-4ac3-8c25-434236f5bbea",
   "metadata": {
    "language": "sql",
    "name": "cell8"
   },
   "outputs": [],
   "source": "USE DATABASE curso_ia;\nUSE SCHEMA seccion_2;\n\nSELECT AI_COMPLETE('claude-3-5-sonnet',\n    'Extraiga los autos identificados en esta imagen. Responda en JSON solo con los autos identificados.',\n    TO_FILE('@imagenes', 'autos.jpg'));",
   "execution_count": null
  },
  {
   "cell_type": "markdown",
   "id": "54835525-8fc7-42ca-a45e-c32bed0ea79a",
   "metadata": {
    "name": "cell9",
    "collapsed": false
   },
   "source": "## Prompt tipo objeto\n\nEsta alternativa de la función `AI_COMPLETE` genera una respuesta para un un prompt tipo objeto. El prompt tipo objeto hace referencia a una o más columnas que contienen datos de texto o imagen.\n\n### Sintaxis\n\n```sql\nAI_COMPLETE(\n    <model>, <prompt> [ , <model_parameters> ] )\n```\n\nPara conocer la lista de modelos disponibles que se pueden utilizar en dependencia de si la entrada a procesar es de tipo texto o imagen deben consultar la documentación de Snowflake en el siguiente enlace: [Lista de modelos disponibles](https://docs.snowflake.com/en/sql-reference/functions/ai_complete-prompt-object)\n\n### Ejemplo\n\nEn este ejemplo compararemos dos imágenes pasándolas como entrada a la función  `AI_COMPLETE` y preguntando si ambas son fotos de perros."
  },
  {
   "cell_type": "code",
   "id": "f5763431-35dd-46b9-aa2c-32e795a5c5e6",
   "metadata": {
    "language": "sql",
    "name": "cell10"
   },
   "outputs": [],
   "source": "USE DATABASE curso_ia;\nUSE SCHEMA seccion_2;\n\nSELECT AI_COMPLETE('claude-3-5-sonnet',\n  PROMPT('¿La imagen {0} y la imagen {1} son ambas de perros?',\n    TO_FILE('@imagenes', 'perro1.png'), TO_FILE('@imagenes', 'perro2.jpg')));",
   "execution_count": null
  },
  {
   "cell_type": "markdown",
   "id": "e9b0899a-7279-4778-ae39-4255d424a255",
   "metadata": {
    "name": "cell14",
    "collapsed": false
   },
   "source": "### Procesamiento en batch de imágenes desde un directorio o tabla\n\nPara procesar en batch varias imágenes, realizando la misma operación en cada una, debemos almacenar los archivos de imagen en el mismo stage. Luego debemos aplicar la función `AI_COMPLETE` a cada fila de la tabla.\n\nPrimero, debemos crear la tabla recuperando las ubicaciones de las imágenes del directorio, convirtiéndolas en objetos `FILE` y almacenando los objetos `FILE` resultantes en una columna de una tabla como se muestra a continuación."
  },
  {
   "cell_type": "code",
   "id": "7cfe0d55-69b4-40f2-b327-1c636ea7d045",
   "metadata": {
    "language": "sql",
    "name": "cell12"
   },
   "outputs": [],
   "source": "USE DATABASE curso_ia;\nUSE SCHEMA seccion_2;\n\nCREATE TABLE image_table AS\n    (SELECT TO_FILE('@imagenes', RELATIVE_PATH) AS img FROM DIRECTORY(@imagenes));",
   "execution_count": null
  },
  {
   "cell_type": "markdown",
   "id": "0565c963-5885-43d1-9931-ea59aa1475e6",
   "metadata": {
    "name": "cell15",
    "collapsed": false
   },
   "source": "Verificamos el contenido de la tabla"
  },
  {
   "cell_type": "code",
   "id": "399ea0c3-8bac-4fc7-9044-801ea878c820",
   "metadata": {
    "language": "sql",
    "name": "cell11"
   },
   "outputs": [],
   "source": "SELECT * FROM curso_ia.seccion_2.image_table;",
   "execution_count": null
  },
  {
   "cell_type": "markdown",
   "id": "b4b2de4a-6226-4dad-a6ef-c10b8086db2d",
   "metadata": {
    "name": "cell16",
    "collapsed": false
   },
   "source": "Luego, debemos aplicar la función `AI_COMPLETE` a la columna que contiene los objetos `FILE`  como se muestra a continuación."
  },
  {
   "cell_type": "code",
   "id": "3f44a6e1-7ff7-44b9-8abd-962b4aab5fe4",
   "metadata": {
    "language": "sql",
    "name": "cell13"
   },
   "outputs": [],
   "source": "USE DATABASE curso_ia;\nUSE SCHEMA seccion_2;\n\nSELECT AI_COMPLETE('claude-3-5-sonnet',\n    PROMPT('Clasifique la imagen de entrada {0} en no más de dos palabras. Responde en un JSON.', img)) AS image_classification\nFROM image_table;",
   "execution_count": null
  }
 ]
}