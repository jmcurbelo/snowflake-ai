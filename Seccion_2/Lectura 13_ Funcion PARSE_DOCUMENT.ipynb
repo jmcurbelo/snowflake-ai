{
 "metadata": {
  "kernelspec": {
   "display_name": "Streamlit Notebook",
   "name": "streamlit"
  },
  "lastEditStatus": {
   "notebookId": "dga4n3fk5ltoe32ciuhd",
   "authorId": "4679294932002",
   "authorName": "JOSE",
   "authorEmail": "jmoyacurbelo@outlook.com",
   "sessionId": "1d76ce6d-6f92-4c42-adc8-cf06e404f475",
   "lastEditTime": 1746856979790
  }
 },
 "nbformat_minor": 5,
 "nbformat": 4,
 "cells": [
  {
   "cell_type": "markdown",
   "id": "538aac2e-e6c1-4d56-8540-cb9532b5aae4",
   "metadata": {
    "name": "cell1",
    "collapsed": false
   },
   "source": "La función `PARSE_DOCUMENT` es una función específica de Cortex AI que permite extraer texto, datos y elementos de diseño de documentos. Podemos usar `PARSE_DOCUMENT` para extraer texto de diversos documentos y formularios e implementar:\n\n- Pipelines RAG para impulsar búsquedas en Cortex Search\n- Procesamiento LLM, como resumen o traducción de documentos, mediante funciones de Cortex AI\n\n### Modos de uso de PARSE `_DOCUMENT`\n\nLa función `PARSE_DOCUMENT` ofrece dos modos para procesar documentos PDF:\n\n- **El modo OCR** es la opción recomendada para la extracción de texto rápida y de alta calidad de documentos como manuales, contratos, páginas de detalles de productos, pólizas de seguro y reclamaciones, y documentos de SharePoint.\n- **El modo LAYOUT** está optimizado para extraer texto y elementos de diseño como tablas. Se recomienda para mejorar el contexto de una base de conocimiento de documentos, optimizar los sistemas de recuperación de información y la inferencia del LLMs.\n\n### Sintaxis\n\n```sql\nSNOWFLAKE.CORTEX.PARSE_DOCUMENT( '@<stage>', '<path>', [ { 'mode': '<mode>' }, ] )\n```\n\n### Ejemplo en modo OCR\n\nPara este ejemplo crearemos un stage con las condiciones necesarias para utilizar `PARSE_DOCUMENT`. Luego cargaremos al stage algunos documentos PDF y los procesaremos."
  },
  {
   "cell_type": "code",
   "id": "af9bc59d-9ea0-4860-85e6-6c94246c4d74",
   "metadata": {
    "language": "sql",
    "name": "cell2"
   },
   "outputs": [],
   "source": "USE DATABASE curso_ia;\nUSE SCHEMA seccion_2;\n\nCREATE OR REPLACE STAGE documentos\n    DIRECTORY = ( ENABLE = true )\n    ENCRYPTION = ( TYPE = 'SNOWFLAKE_SSE' );",
   "execution_count": null
  },
  {
   "cell_type": "code",
   "id": "34de6892-5b58-47d4-8c8e-7aaeb2b53421",
   "metadata": {
    "language": "sql",
    "name": "cell3"
   },
   "outputs": [],
   "source": "USE DATABASE curso_ia;\nUSE SCHEMA seccion_2;\n\nSELECT\n  SNOWFLAKE.CORTEX.PARSE_DOCUMENT(\n    @documentos,\n    'Que_es_la_IA.pdf',\n    {'mode': 'OCR'}\n  ) AS OCR;",
   "execution_count": null
  },
  {
   "cell_type": "markdown",
   "id": "7e6c73ae-836e-4ba6-9883-ac6185e50d29",
   "metadata": {
    "name": "cell5",
    "collapsed": false
   },
   "source": "Como se puede observar el resultado es un JSON que contiene la información extraida del PDF. Si deseamos extraer solo el contenido lo podemos hacer como sigue."
  },
  {
   "cell_type": "code",
   "id": "d6f7b00e-5680-49b1-9508-25740fa51f75",
   "metadata": {
    "language": "sql",
    "name": "cell4"
   },
   "outputs": [],
   "source": "USE DATABASE curso_ia;\nUSE SCHEMA seccion_2;\n\nSELECT\n  SNOWFLAKE.CORTEX.PARSE_DOCUMENT(\n    @documentos,\n    'Que_es_la_IA.pdf',\n    {'mode': 'OCR'}\n  ):content AS OCR;",
   "execution_count": null
  },
  {
   "cell_type": "markdown",
   "id": "8f3fa8fb-2bc5-49e4-a1cd-e6faa4b875d2",
   "metadata": {
    "name": "cell6",
    "collapsed": false
   },
   "source": "Como se observa el resultado ahora es solo el contenido del PDF.\n\n### Ejemplo en modo LAYOUT\n\nPara este ejemplo vamos a procesar un PDF que contiene varias tablas de ahí que utilicemos el modo LAYOUT para sacar el mayor beneficio al procesar el documento."
  },
  {
   "cell_type": "code",
   "id": "2a490022-a1b3-4c65-aff2-d1939bb3f18a",
   "metadata": {
    "language": "sql",
    "name": "cell7"
   },
   "outputs": [],
   "source": "USE DATABASE curso_ia;\nUSE SCHEMA seccion_2;\n\nSELECT\n  SNOWFLAKE.CORTEX.PARSE_DOCUMENT(\n    @documentos,\n    'AI_Service_Reporte_Trimestral.pdf',\n    {'mode': 'LAYOUT'}\n  ):content AS LAYOUT;",
   "execution_count": null
  },
  {
   "cell_type": "markdown",
   "id": "c39e0492-c3d5-49b7-abe5-8111d311eb66",
   "metadata": {
    "name": "cell14",
    "collapsed": false
   },
   "source": "### Combinar `PARSE_DOCUMENT` con `COMPLETE` para procesar documentos\n\nEn este ejemplo vamos a procesar los PDF que tenemos en el stage con la función `PARSE_DOCUMENT` y luego tomaremos el resultado para introducirlo a la función `COMPLETE` para obtener respuestas a preguntas sobre los documentos."
  },
  {
   "cell_type": "code",
   "id": "2a124a39-87e0-4a8d-a4ee-06ad5e32f52d",
   "metadata": {
    "language": "sql",
    "name": "cell8",
    "collapsed": false,
    "codeCollapsed": false
   },
   "outputs": [],
   "source": "CREATE OR REPLACE TABLE curso_ia.seccion_2.ia AS\n    SELECT\n        TO_VARCHAR(\n            SNOWFLAKE.CORTEX.PARSE_DOCUMENT(\n                @documentos,\n                'Que_es_la_IA.pdf',\n                {'mode': 'OCR'}\n            )\n        ) AS texto;",
   "execution_count": null
  },
  {
   "cell_type": "code",
   "id": "3b3b8832-5779-4c94-92d3-1bd8e70e2b0d",
   "metadata": {
    "language": "sql",
    "name": "cell11"
   },
   "outputs": [],
   "source": "SELECT * FROM curso_ia.seccion_2.ia;",
   "execution_count": null
  },
  {
   "cell_type": "code",
   "id": "3648d1e6-eb44-44c2-a84d-bcf60a978f77",
   "metadata": {
    "language": "sql",
    "name": "cell9",
    "codeCollapsed": false
   },
   "outputs": [],
   "source": "SELECT SNOWFLAKE.CORTEX.COMPLETE(\n    'claude-3-5-sonnet',\n    CONCAT(\n        '¿Cuáles son las ventajas de la IA?',\n        texto\n    )\n) FROM curso_ia.seccion_2.ia;",
   "execution_count": null
  },
  {
   "cell_type": "markdown",
   "id": "bf106e88-50b2-4201-aefd-4bfd8d6eba8f",
   "metadata": {
    "name": "cell10",
    "collapsed": false
   },
   "source": "Tratemos ahora de extraer información del PDF con los estados financieros siguiendo la misma estrategia pero esta vez usando el modo LAYOUT y una tabla temporal."
  },
  {
   "cell_type": "code",
   "id": "717118fb-2fd0-47ef-95dd-1b1d315b3e11",
   "metadata": {
    "language": "sql",
    "name": "cell12"
   },
   "outputs": [],
   "source": "CREATE OR REPLACE TEMPORARY TABLE curso_ia.seccion_2.estados_financieros AS\n    SELECT\n        TO_VARCHAR(\n            SNOWFLAKE.CORTEX.PARSE_DOCUMENT(\n                @documentos,\n                'AI_Service_Reporte_Trimestral.pdf',\n                {'mode': 'OCR'}\n            )\n        ) AS texto;\n\nSELECT SNOWFLAKE.CORTEX.COMPLETE(\n    'claude-3-5-sonnet',\n    CONCAT(\n        '¿Cuál fue el promedio de ventas de los tres meses reportados? Solo responde con el resultado solicitado.',\n        texto\n    )\n) FROM curso_ia.seccion_2.estados_financieros;",
   "execution_count": null
  },
  {
   "cell_type": "markdown",
   "id": "68b266e4-2964-4ba1-8685-3b689e9473c9",
   "metadata": {
    "name": "cell13",
    "collapsed": false
   },
   "source": "### Puntos importante sobre la función `PARSE_DOCUMENT`\n\n- `PARSE_DOCUMENT` está optimizado para documentos tanto digitales como escaneados.\n- Tamaño máximo de archivo 100 MB.\n- Máximo de páginas por documento 300 páginas.\n- Formatos de archivos permitidos: PDF, PPTX, DOCX, JPEG, JPG, PNG, TIFF, TIF.\n- Se requiere un tamaño de fuente de 8 puntos o mayor para obtener mejores resultados."
  }
 ]
}