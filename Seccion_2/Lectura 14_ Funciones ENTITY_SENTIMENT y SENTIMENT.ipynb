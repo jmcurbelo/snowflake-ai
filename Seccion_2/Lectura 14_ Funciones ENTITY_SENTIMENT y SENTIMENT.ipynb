{
 "metadata": {
  "kernelspec": {
   "display_name": "Streamlit Notebook",
   "name": "streamlit"
  },
  "lastEditStatus": {
   "notebookId": "4op6wdbs5v34ljycgpvs",
   "authorId": "4679294932002",
   "authorName": "JOSE",
   "authorEmail": "jmoyacurbelo@outlook.com",
   "sessionId": "ccced625-846f-4ecc-b9c0-aac12b9228fd",
   "lastEditTime": 1746861122051
  }
 },
 "nbformat_minor": 5,
 "nbformat": 4,
 "cells": [
  {
   "cell_type": "markdown",
   "id": "467c17d6-261c-4901-bdae-78fbd1fee2d0",
   "metadata": {
    "name": "cell1",
    "collapsed": false
   },
   "source": "Snowflake Cortex AI ofrece dos funciones específicas que permiten realizar fácilmente análisis de sentimiento en datos de texto, como comentarios o reseñas de clientes.\n\n- `ENTITY_SENTIMENT` ofrece información general y granular sobre el sentimiento de cada entidad. Es ideal para casos de uso que requieren análisis de sentimiento para aspectos específicos del texto o una identificación matizada del sentimiento: positivo, negativo, neutral y mixto.\n- `SENTIMENT` proporciona una puntuación numérica del sentimiento que identifica el grado de negatividad o positividad. Está diseñado para casos de uso que priorizan la velocidad y la rentabilidad sobre el análisis granular a nivel de entidad.\n\n### `ENTITY_SENTIMENT`\n\nCortex AI `ENTITY_SENTIMENT` captura un espectro de opiniones de clientes que va más allá de las categorías generales positivas, negativas y neutrales. Para el análisis de sentimiento basado en aspectos, debemos especificar el contenido (como un comentario o una reseña de un cliente) y las entidades (aspectos o categorías) para las que deseamos analizar el sentimiento. `ENTITY_SENTIMENT` nos devolverá puntuaciones de sentimiento para cada entidad, así como una puntuación de sentimiento general.\n\n### Ejemplo\n\nEn el siguiente ejemplo vamos a crear una tabla con reviews de un restaurante de nombre “La cubana” y vamos a utilizar la función `ENTITY_SENTIMENT` para ver el sentimiento de las personas respecto a 4 puntos claves: costo de la comida, calidad, servicio y tiempos de espera."
  },
  {
   "cell_type": "code",
   "id": "9a0e16ad-16ca-4321-be2b-2edf4acff324",
   "metadata": {
    "language": "sql",
    "name": "cell2"
   },
   "outputs": [],
   "source": "-- Establecer el contexto\nUSE DATABASE curso_ia;\nUSE SCHEMA seccion_2;\n\n-- Crear tabla para las opiniones de restaurante\nCREATE OR REPLACE TABLE reviews_restaurante (\n   usuario VARCHAR(50),\n   opinion VARCHAR(1000)\n);",
   "execution_count": null
  },
  {
   "cell_type": "code",
   "id": "17f56efe-f031-474b-a439-d630e3329e52",
   "metadata": {
    "language": "sql",
    "name": "cell3",
    "codeCollapsed": false
   },
   "outputs": [],
   "source": "-- Insertar 10 filas con revisiones variadas\nINSERT INTO reviews_restaurante (usuario, opinion)\nVALUES\n   ('juan20', 'La comida en \"La Cubana\" es excelente, aunque un poco cara para la porción que sirven. Los platillos tradicionales cubanos son auténticos y llenos de sabor. El servicio fue atento pero la espera para recibir el plato principal fue de casi 30 minutos.'),\n   \n   ('maria_lopez', 'Me encantó el ambiente de \"La Cubana\", muy acogedor. La relación calidad-precio es justa y el servicio excepcional. La mesera conocía perfectamente el menú y nos recomendó platos deliciosos. Solo tardaron 15 minutos en servirnos.'),\n   \n   ('foodlover45', 'Decepcionado con \"La Cubana\". Esperamos más de 45 minutos para ser atendidos y los platos estaban fríos cuando llegaron. Además, los precios son demasiado elevados para lo que ofrecen. No volveré.'),\n   \n   ('carlos_gomez', 'El ropa vieja de \"La Cubana\" es el mejor que he probado en la ciudad. El servicio fue rápido y eficiente. Precios moderados considerando la calidad de los ingredientes. Definitivamente regresaré.'),\n   \n   ('chef_patricia', 'Como profesional de la gastronomía, puedo decir que \"La Cubana\" mantiene la autenticidad de los sabores caribeños. El servicio es un poco lento en horas pico, pero la calidad de la comida lo compensa. Los precios son razonables para un restaurante de especialidad.'),\n   \n   ('roberto87', 'Fui a \"La Cubana\" en mi cumpleaños y la experiencia fue increíble. El personal fue muy atento, la comida llegó en tiempo récord y la relación calidad-precio es inmejorable. Los cócteles cubanos son espectaculares.'),\n   \n   ('foodie_ana', 'Esperaba mucho más de \"La Cubana\". Los platos son mediocres y extremadamente caros para lo que ofrecen. El servicio fue correcto pero nada especial. Tardaron 25 minutos en traer una simple ensalada.'),\n   \n   ('david_castro', '\"La Cubana\" ofrece una experiencia gastronómica completa. La calidad de los ingredientes es notable, el servicio atento y personalizado. Los precios son un poco elevados, pero acordes a lo que recibes. La espera fue razonable, unos 20 minutos.'),\n   \n   ('elena_viajera', 'Como cubana, puedo certificar que los sabores de \"La Cubana\" son bastante auténticos. El servicio fue amable pero desorganizado, y los precios son justos. Tuvimos que esperar casi 40 minutos por nuestra comida en un día poco concurrido.'),\n   \n   ('gourmet2023', 'Balance perfecto entre calidad y precio en \"La Cubana\". El servicio es impecable, los camareros conocen a la perfección cada plato y sus ingredientes. La espera fue mínima y la comida vale cada centavo. El mojito es simplemente perfecto.')\n;",
   "execution_count": null
  },
  {
   "cell_type": "markdown",
   "id": "0ff4ef7f-3b40-446d-86aa-187ae3f00ec6",
   "metadata": {
    "name": "cell5",
    "collapsed": false
   },
   "source": "Ahora usaremos `ENTITY_SENTIMENT` para ver el sentimiento de las personas respecto a 4 puntos mencionados."
  },
  {
   "cell_type": "code",
   "id": "1ed78482-66b4-4968-967d-c6cdbea43976",
   "metadata": {
    "language": "sql",
    "name": "cell4"
   },
   "outputs": [],
   "source": "SELECT usuario, SNOWFLAKE.CORTEX.ENTITY_SENTIMENT(opinion,['costo de la comida', 'calidad', 'servicio', 'tiempos de espera']) FROM curso_ia.seccion_2.reviews_restaurante;",
   "execution_count": null
  },
  {
   "cell_type": "markdown",
   "id": "e0fd039f-411d-4ec5-85c0-792e5bcfa41e",
   "metadata": {
    "name": "cell8",
    "collapsed": false
   },
   "source": "Veamos que sucede si proporcionamos entidades no relacionadas con el contenido de la reseña del restaurante. Para el ejemplo proporcionaremos la entidad \"dormitorios\" y veremos como el modelo la clasifica como \"unknown\"(\"desconocida\")."
  },
  {
   "cell_type": "code",
   "id": "93030b8f-5ab4-45cc-8660-a52c106b8c68",
   "metadata": {
    "language": "sql",
    "name": "cell6"
   },
   "outputs": [],
   "source": "SELECT usuario, SNOWFLAKE.CORTEX.ENTITY_SENTIMENT(opinion,['dormitorios', 'calidad', 'servicio']) FROM curso_ia.seccion_2.reviews_restaurante;",
   "execution_count": null
  },
  {
   "cell_type": "markdown",
   "id": "15a2a455-8f03-4f4f-a420-a6819367ede5",
   "metadata": {
    "name": "cell7",
    "collapsed": false
   },
   "source": "Si solo deseamos el sentimiento general, debemos especificar el contenido sin entidades de análisis como se muestra a continuación."
  },
  {
   "cell_type": "code",
   "id": "2cb16464-4a1b-4e3c-8305-c867ebf8bced",
   "metadata": {
    "language": "sql",
    "name": "cell9"
   },
   "outputs": [],
   "source": "SELECT usuario, SNOWFLAKE.CORTEX.ENTITY_SENTIMENT(opinion)\n    FROM curso_ia.seccion_2.reviews_restaurante;",
   "execution_count": null
  },
  {
   "cell_type": "markdown",
   "id": "3e1b1118-ce26-46d6-9340-579b2dab6801",
   "metadata": {
    "name": "cell10",
    "collapsed": false
   },
   "source": "### **`SENTIMENT`**\n\nLa función `SENTIMENT` de Cortex AI devuelve el sentimiento general como una puntuación entre -1.0 y 1.0. Cuanto más cercano a 1, mayor es la probabilidad de que el texto tenga un sentimiento positivo; cuanto más cercano a -1, mayor es la probabilidad de que el texto tenga un sentimiento negativo. La siguiente tabla ofrece orientación sobre cómo interpretar las puntuaciones de sentimiento:\n\n| **Sentimiento** | **Puntuación** |\n| --- | --- |\n| Positive | 0.5 to 1 |\n| Neutral | -0.5 to 0.5 |\n| Negative | -0.5 to -1 |\n\nVeamos un ejemplo utilizando la misma tabla de reviews que hemos creado con anterioridad y aplicando la tabla anterior para clasificar el sentimiento."
  },
  {
   "cell_type": "code",
   "id": "22fb3ffe-9f01-4669-890e-4e248ae68f07",
   "metadata": {
    "language": "sql",
    "name": "cell11"
   },
   "outputs": [],
   "source": "SELECT\n    usuario,\n    SNOWFLAKE.CORTEX.SENTIMENT(opinion) AS score,\n    CASE \n        WHEN score > 0.5 THEN 'Positivo'\n        WHEN score < -0.5 THEN 'Negativo'\n        ELSE 'Neutral'\n    END AS sentimiento\nFROM curso_ia.seccion_2.reviews_restaurante;",
   "execution_count": null
  },
  {
   "cell_type": "markdown",
   "id": "5a8a76fe-612e-4429-ac10-942086190a71",
   "metadata": {
    "name": "cell12",
    "collapsed": false
   },
   "source": "### Restricciones del modelo\n\nTodos los modelos disponibles en Snowflake Cortex AI tienen limitaciones en el número total de tokens de entrada y salida, lo que se conoce como la ventana de contexto del modelo.\n\nLa ventana de contexto de `ENTITY_SENTIMENT` está configurada para que el modelo mantenga un alto nivel de precisión. \n\n`ENTITY_SENTIMENT` se entrenó y optimizó para entradas de texto de 2048 tokens (**aproximadamente 1600 palabras**), y se puede pasar **un máximo de 10 categorías de entidades**, cada una con un máximo de 30 caracteres.\n\n| **Función** | **Ventana de contexto (tokens)** | **Max Entidades** |\n| --- | --- | --- |\n| ENTITY_SENTIMENT | 2,048 | 10 |\n| SENTIMENT | 512 | n/a |"
  },
  {
   "cell_type": "markdown",
   "id": "6497a80d-3ee4-4d97-8c44-4e2d8761c4e2",
   "metadata": {
    "name": "cell13",
    "collapsed": false
   },
   "source": "### `SENTIMENT` en Python\n\nEl siguiente ejemplo muestra como podemos hacer uso de la función `SENTIMENT` desde Python."
  },
  {
   "cell_type": "code",
   "id": "2897652c-bf3a-416f-9831-d38fe6379667",
   "metadata": {
    "language": "python",
    "name": "cell14"
   },
   "outputs": [],
   "source": "# Importar las liberías\nfrom snowflake.snowpark.context import get_active_session\nfrom snowflake.cortex import sentiment\nfrom snowflake.snowpark.functions import col, when, lit\n\n\n# Obtener la sesión de snowpark activa\nsession = get_active_session()",
   "execution_count": null
  },
  {
   "cell_type": "code",
   "id": "be393545-f278-480f-bbc6-f6f7580e8935",
   "metadata": {
    "language": "python",
    "name": "cell15",
    "codeCollapsed": false
   },
   "outputs": [],
   "source": "# Leemos la tabla que contiene las reseñas\nreviews = session.table('curso_ia.seccion_2.reviews_restaurante')",
   "execution_count": null
  },
  {
   "cell_type": "code",
   "id": "02cd786f-5436-4793-a736-ddd3bf2fad4a",
   "metadata": {
    "language": "python",
    "name": "cell16",
    "codeCollapsed": false
   },
   "outputs": [],
   "source": "# Utilizamos la función sentiment\nreviews_sentimientos = (\n    reviews\n        .with_column('Score', sentiment(col('opinion')))\n        .with_column('Sentimiento',\n                     when(col('Score') > 0.5, lit('Positivo'))\n                     .when(col('Score') < -0.5, lit('Negativo'))\n                     .otherwise('Neutro')\n                    )\n        \n)\n\nreviews_sentimientos.show()",
   "execution_count": null
  }
 ]
}