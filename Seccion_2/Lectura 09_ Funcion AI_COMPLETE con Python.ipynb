{
 "metadata": {
  "kernelspec": {
   "display_name": "Streamlit Notebook",
   "name": "streamlit"
  },
  "lastEditStatus": {
   "notebookId": "35jslztcj2444xk6divn",
   "authorId": "5639445461508",
   "authorName": "JOSE",
   "authorEmail": "jmoyacurbelo@outlook.com",
   "sessionId": "da3b57ba-a2ae-49eb-b166-fd6eb7c29761",
   "lastEditTime": 1749262990047
  }
 },
 "nbformat_minor": 5,
 "nbformat": 4,
 "cells": [
  {
   "cell_type": "markdown",
   "id": "654764d1-7d3b-49fd-8d94-9d5e2f3b3fdb",
   "metadata": {
    "name": "cell3",
    "collapsed": false
   },
   "source": "En esta lección vamos a ver cómo utilizar la función `AI_COMPLETE` de Cortex desde Python."
  },
  {
   "cell_type": "code",
   "id": "3775908f-ca36-4846-8f38-5adca39217f2",
   "metadata": {
    "language": "python",
    "name": "cell1"
   },
   "source": "# Importar las liberías\nfrom snowflake.snowpark.context import get_active_session\nfrom snowflake.cortex import complete\n\n\n# Obtener la sesión de snowpark activa\nsession = get_active_session()",
   "execution_count": null,
   "outputs": []
  },
  {
   "cell_type": "markdown",
   "id": "d166e11d-059b-4323-807f-8944c41bb710",
   "metadata": {
    "name": "cell8",
    "collapsed": false
   },
   "source": "A continuación vamos a guardar en una variable la transcripción de una llamada de una persona con un ejecutivo de una empresa que se dedica a vender laptops."
  },
  {
   "cell_type": "code",
   "id": "a2b0dd5d-0442-4f5e-9638-26453788b017",
   "metadata": {
    "language": "python",
    "name": "cell2"
   },
   "outputs": [],
   "source": "\ntext = \"\"\"\n**Ejecutivo:** Gracias por comunicarse con TechVision Laptops, mi nombre es Carlos, ¿en qué puedo ayudarle hoy?\n\n**Cliente:** Hola, buenos días. Mire, le llamo porque tengo un problema con una laptop que compré hace 6 meses y la batería ya no funciona bien.\n\n**Ejecutivo:** Lamento escuchar que está teniendo problemas con la batería de su equipo. Para poder ayudarle mejor, ¿podría proporcionarme su nombre completo y el número de serie de su laptop? Lo encuentra en la parte inferior del equipo o en la factura de compra.\n\n**Cliente:** Sí, me llamo Martín Gutiérrez. El número de serie es TVL-20241105-78932.\n\n**Ejecutivo:** Muchas gracias, señor Gutiérrez. Permítame verificar la información en nuestro sistema... Efectivamente, veo que adquirió una TechVision Pro X7 hace 6 meses. ¿Podría describir exactamente el problema que está experimentando con la batería?\n\n**Cliente:** Claro. Al principio la batería duraba unas 8 horas como prometían en la publicidad, pero ahora apenas llega a 2 horas. Además, a veces se apaga de repente aunque muestre que todavía tiene carga. Ya reinstalé los drivers como sugería el manual, pero no mejoró.\n\n**Ejecutivo:** Entiendo su frustración, señor Gutiérrez. Ese comportamiento definitivamente no es normal para nuestros equipos, especialmente en tan poco tiempo de uso. La buena noticia es que su laptop cuenta con garantía de 1 año, así que estamos en condiciones de ayudarle con este problema.\n\n**Cliente:** Eso espero, porque la verdad es que pagué bastante dinero por un equipo de calidad y no esperaba tener estos inconvenientes tan pronto.\n\n**Ejecutivo:** Lo comprendo perfectamente. Nuestro compromiso es brindarle una solución satisfactoria. Tenemos dos opciones: podemos enviarle una batería nueva para que usted mismo la instale, es un proceso sencillo, o puede llevar el equipo a uno de nuestros centros de servicio autorizados para que nuestros técnicos realicen el cambio.\n\n**Cliente:** Preferiría que me envíen la batería. No quiero quedarme sin laptop varios días.\n\n**Ejecutivo:** Perfecto. Para proceder con el envío de la batería de reemplazo, necesito confirmar su dirección actual. ¿Sigue siendo Avenida Libertadores 234, Departamento 15?\n\n**Cliente:** Sí, esa es mi dirección.\n\n**Ejecutivo:** Excelente. También necesitaré un correo electrónico para enviarle la guía de reemplazo y el seguimiento del envío.\n\n**Cliente:** Mi correo es martin.gutierrez@email.com\n\n**Ejecutivo:** Perfecto. Estoy generando la orden de reemplazo en este momento... Listo, he programado el envío de una batería nueva compatible con su modelo TechVision Pro X7. El código de seguimiento le llegará a su correo en las próximas 24 horas. El tiempo estimado de entrega es de 3 a 5 días hábiles.\n\n**Cliente:** ¿Y qué hago con la batería vieja?\n\n**Ejecutivo:** Excelente pregunta. Junto con la batería nueva le enviaremos un sobre con porte pagado para que pueda devolvernos la batería defectuosa. Es importante para nuestro control de calidad y también por temas medioambientales, ya que nos encargamos del reciclaje adecuado.\n\n**Cliente:** De acuerdo. ¿Y si tengo problemas con la instalación?\n\n**Ejecutivo:** No se preocupe, señor Gutiérrez. Le enviaremos instrucciones detalladas paso a paso. Además, puede contactarnos a través de nuestro chat de soporte técnico donde un especialista puede guiarle por videollamada si lo necesita. La instalación es realmente sencilla y no requiere herramientas especiales.\n\n**Cliente:** Está bien. Espero que la nueva batería no presente los mismos problemas.\n\n**Ejecutivo:** Puedo asegurarle que todas nuestras baterías de reemplazo pasan por un riguroso control de calidad. Además, esta pieza de reemplazo tendrá su propia garantía de 6 meses. ¿Hay algo más en lo que pueda ayudarle hoy?\n\n**Cliente:** No, creo que eso sería todo por ahora.\n\n**Ejecutivo:** Perfecto, señor Gutiérrez. En resumen, recibirá su batería de reemplazo en los próximos 3 a 5 días hábiles, junto con instrucciones de instalación y un sobre para devolver la batería defectuosa. Le he enviado también un correo con el número de caso #TVC-45789 para cualquier seguimiento. Si surge cualquier duda, no dude en contactarnos mencionando este número.\n\n**Cliente:** Gracias por su ayuda.\n\n**Ejecutivo:** Ha sido un placer ayudarle. Le agradecemos su preferencia por TechVision Laptops. Que tenga un excelente día.\n\n**Cliente:** Igualmente, adiós.\n\n**Ejecutivo:** Adiós, señor Gutiérrez.\n\"\"\"",
   "execution_count": null
  },
  {
   "cell_type": "markdown",
   "id": "b76a8c4b-d4e2-414e-9375-56cce2f12315",
   "metadata": {
    "name": "cell9",
    "collapsed": false
   },
   "source": "Vamos a crear un prompt que luego utilizaremos."
  },
  {
   "cell_type": "code",
   "id": "9e1cbf97-f876-43ed-b036-e7b2b196a4a3",
   "metadata": {
    "language": "python",
    "name": "cell4"
   },
   "outputs": [],
   "source": "prompt = \"\"\"\nResume esta conversación en menos de 150 palabras. Incluye el nombre del cliente, el motivo de la llamada y el resumen en formato JSON.\n\"\"\"",
   "execution_count": null
  },
  {
   "cell_type": "markdown",
   "id": "b89b5cea-0429-4827-947a-aafd355d3e1c",
   "metadata": {
    "name": "cell10",
    "collapsed": false
   },
   "source": "Ahora veremos como se puede hacer un llamado a la función desde Python."
  },
  {
   "cell_type": "code",
   "id": "088d1761-5c21-4bc2-97a2-0eb4d5d27bb3",
   "metadata": {
    "language": "python",
    "name": "cell5"
   },
   "outputs": [],
   "source": "print(complete(\"mistral-7b\", prompt + text))",
   "execution_count": null
  },
  {
   "cell_type": "markdown",
   "id": "4cd9fbed-2046-4979-aef3-b6f0bd1524a4",
   "metadata": {
    "name": "cell6",
    "collapsed": false
   },
   "source": "### Aplicación de Streamlit\n\nA continuación vamos a crear una aplicación de Streamlit que nos permitirá utilizar la función `AI_COMPLETE` de Cortex y además seleccionar el modelo que deseamos para la respuesta. Tenga en cuenta que si desea que la lista de modelos sea más amplia solo deberá agregar los modelos que desee en la lista correspondiente en el código.\n\n**Preguntas de prueba**\n- Describe la arquitectura de Snowflake\n- Resume el siguiente párrafo en tres bullets:\n\nAWS Glue es un servicio de integración de datos totalmente administrado que facilita la preparación, transformación y carga de datos (ETL) para análisis. Diseñado para ser escalable y sin servidor, Glue automatiza tareas tediosas como el descubrimiento de esquemas, la conversión de formatos y la gestión de jobs, permitiendo a los equipos enfocarse en obtener insights valiosos. Con capacidades como el **Glue Data Catalog** (un metastore centralizado) y conectores nativos a diversas fuentes (S3, RDS, Redshift, etc.), simplifica el procesamiento de datos tanto en entornos batch como en streaming. Además, su integración con servicios como **AWS Lambda**, **Athena** y **EMR** lo convierte en una herramienta clave para arquitecturas de datos modernas en la nube. Ideal para empresas que buscan agilidad y costos optimizados en sus pipelines de ETL.\n\n- Escribe una función de Python que calcule el factorial de un número dado."
  },
  {
   "cell_type": "code",
   "id": "83ac628f-c1fd-4f54-9a5b-d7e69bdc18e0",
   "metadata": {
    "language": "python",
    "name": "cell7"
   },
   "outputs": [],
   "source": "import streamlit as st\n\ndef main():\n    st.title(\"Snowflake Cortex COMPLETE\")\n    \n    # Lista desplegable para seleccionar el modelo\n    model_options = [\"claude-3-5-sonnet\", \"llama3-70b\", \"mistral-7b\"]\n    selected_model = st.selectbox(\n        \"Selecciona un modelo:\",\n        model_options,\n        index=0  # claude-3-5-sonnet por defecto\n    )\n    \n    # Cuadro de texto para el prompt\n    user_prompt = st.text_area(\"Escribe tu prompt:\", height=150)\n    \n    # Botones en la parte inferior\n    col1, col2 = st.columns([1, 4])\n    \n    with col1:\n        submit_button = st.button(\"Enviar\")\n    \n    # Procesar la solicitud cuando se presiona el botón\n    if submit_button and user_prompt:\n        try:\n            # Llamar a la función COMPLETE de Snowflake Cortex\n            result = complete(selected_model, user_prompt)\n            \n            # Mostrar el resultado\n            st.subheader(\"Respuesta:\")\n            st.write(result)\n            \n            # Limpiar el cuadro de texto después de enviar\n            st.session_state.user_prompt = \"\"\n            st.rerun()\n            \n        except Exception as e:\n            st.error(f\"Error al procesar la solicitud: {e}\")\n    \n    # Guardar el estado del prompt para limpiarlo después\n    if 'user_prompt' in st.session_state:\n        user_prompt = st.session_state.user_prompt\n\nif __name__ == \"__main__\":\n    main()",
   "execution_count": null
  }
 ]
}