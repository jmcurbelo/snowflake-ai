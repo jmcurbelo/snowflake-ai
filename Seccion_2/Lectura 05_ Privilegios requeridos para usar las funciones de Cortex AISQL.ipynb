{
 "metadata": {
  "kernelspec": {
   "display_name": "Streamlit Notebook",
   "name": "streamlit"
  },
  "lastEditStatus": {
   "notebookId": "uhcxcvb7gxfhnxxwt7zd",
   "authorId": "5639445461508",
   "authorName": "JOSE",
   "authorEmail": "jmoyacurbelo@outlook.com",
   "sessionId": "2b86af2c-da7f-4de4-8b94-b9fc62df9418",
   "lastEditTime": 1749233726700
  }
 },
 "nbformat_minor": 5,
 "nbformat": 4,
 "cells": [
  {
   "cell_type": "markdown",
   "id": "b6a52739-8030-463d-9ef1-0af6608b5d99",
   "metadata": {
    "name": "cortex_user",
    "collapsed": false
   },
   "source": "### **`CORTEX_USER`**\n\nEl rol de base de datos `CORTEX_USER` en la base de datos `SNOWFLAKE` incluye los privilegios que permiten a los usuarios acceder a las funciones LLM de Snowflake Cortex AISLQ. \n\nDe forma predeterminada, el rol `CORTEX_USER` se asigna al rol `PUBLIC`. Este rol se asigna automáticamente a todos los usuarios y roles, lo que permite a todos los usuarios de nuestra cuenta utilizar las funciones LLM de Snowflake Cortex AISQL.\n\nSi no deseamos que todos los usuarios tengan este privilegio, podemos revocar el acceso al rol `PUBLIC` y otorgar acceso a roles específicos."
  },
  {
   "cell_type": "markdown",
   "id": "055cb9f9-7805-4bfe-8f20-d64a06d82708",
   "metadata": {
    "name": "revocar",
    "collapsed": false
   },
   "source": "### Revocar el acceso al rol `PUBLIC`\n\nPara revocar el rol de base de datos `CORTEX_USER` del rol `PUBLIC`, se deben ejecutar los siguientes comandos con el rol `ACCOUNTADMIN`:"
  },
  {
   "cell_type": "code",
   "id": "710f78c2-50ad-4237-856a-fad276d23851",
   "metadata": {
    "language": "sql",
    "name": "revocar_sql"
   },
   "outputs": [],
   "source": "REVOKE DATABASE ROLE SNOWFLAKE.CORTEX_USER\n  FROM ROLE PUBLIC;\n\nREVOKE IMPORTED PRIVILEGES ON DATABASE SNOWFLAKE\n  FROM ROLE PUBLIC;",
   "execution_count": null
  },
  {
   "cell_type": "markdown",
   "id": "0a53220b-d5b9-4918-bc2f-e94fdc3ef4c8",
   "metadata": {
    "name": "privilegios",
    "collapsed": false
   },
   "source": "### Otorgar privilegio a un rol específico\n\nPodemos otorgar acceso selectivo a roles específicos. El rol de base de datos `SNOWFLAKE.CORTEX_USER` no se puede otorgar directamente a un usuario. \n\nUn usuario con el rol `ACCOUNTADMIN` puede otorgar este rol a un rol personalizado para permitir que los usuarios accedan a las funciones de Cortex AISQL. \n\nEn el siguiente ejemplo, utilizaremos el rol `ACCOUNTADMIN` para crear un nuevo rol llamado `curso_snowflake_ai`, luego le otorgaremos el permiso de utilizar las funciones de Cortex AISQL a ese rol y finalmente asignaremos el rol a nuestro usuario de Snowflake"
  },
  {
   "cell_type": "code",
   "id": "b4508367-bf70-4ba2-a28b-ddb9668afc1a",
   "metadata": {
    "language": "sql",
    "name": "privilegios_rol_epecifico"
   },
   "outputs": [],
   "source": "USE ROLE ACCOUNTADMIN;\n\nCREATE ROLE curso_snowflake_ai;\nGRANT DATABASE ROLE SNOWFLAKE.CORTEX_USER TO ROLE curso_snowflake_ai;\n\nGRANT ROLE curso_snowflake_ai TO USER jose;",
   "execution_count": null
  }
 ]
}