{
 "metadata": {
  "kernelspec": {
   "display_name": "Streamlit Notebook",
   "name": "streamlit"
  },
  "lastEditStatus": {
   "notebookId": "gx6mvi46rbajyqyvr6fz",
   "authorId": "5639445461508",
   "authorName": "JOSE",
   "authorEmail": "jmoyacurbelo@outlook.com",
   "sessionId": "3aae2e0d-ef34-4ba0-9856-e348774079d2",
   "lastEditTime": 1749322477649
  }
 },
 "nbformat_minor": 5,
 "nbformat": 4,
 "cells": [
  {
   "cell_type": "markdown",
   "id": "71e1241c-b515-478c-b609-7ba328b162cf",
   "metadata": {
    "name": "cell1",
    "collapsed": false
   },
   "source": "## Función `AI_AGG`\n\nLa función `AI_AGG` reduce una columna de datos de texto mediante una tarea descrita en lenguaje natural. Esta función no está sujeta a las limitaciones de la ventana de contexto.\n\nPor ejemplo, `AI_AGG(reviews, 'Resumir las reseñas de libros en 200 palabras')` devolverá un resumen de los comentarios de los usuarios.\n\nA diferencia de `COMPLETE (SNOWFLAKE.CORTEX)` y `SUMMARIZE (SNOWFLAKE.CORTEX)`, esta función admite conjuntos de datos mayores que la ventana de contexto máxima del modelo de lenguaje.\n\n### Sintaxis\n\n```sql\nAI_AGG( <expr>, <task_description> )\n```\n\n### Argumentos\n\n- `<expr>` :(Obligatorio): Esta expresión contiene texto sobre el que se realizará una operación de agregación, como reseñas de restaurantes o transcripciones telefónicas.\n- `<task_description>`: Un string que contiene una descripción en lenguaje natural de la agregación que se realizará, por ejemplo, «Resumir las reseñas» o «Identificar a todas las personas mencionadas y escribir una breve biografía de cada una».\n\n### Notas de uso\n\nPara un rendimiento óptimo, debemos seguir estas pautas:\n\n- Utilizar texto en inglés sencillo para la descripción de la tarea.\n- Describa el texto proporcionado en la descripción de la tarea. Por ejemplo, en lugar de una descripción como \"resumir\", utilice \"Resumir las transcripciones de las llamadas telefónicas\".\n- Describa el caso de uso previsto. Por ejemplo, en lugar de \"encontrar la mejor reseña\", utilice \"Encontrar la reseña de restaurante más positiva y mejor escrita para destacarla en el sitio web del restaurante\".\n- Considere dividir la descripción de la tarea en varios pasos. Por ejemplo, en lugar de \"Resumir los nuevos artículos\", utilice \"Recibirá artículos de noticias de diversas editoriales que presentan eventos desde diferentes perspectivas. Por favor, cree un resumen conciso y detallado de los textos fuente sin omitir ninguna información crucial\".\n\n## Ejemplos\n\n`AI_AGG` se puede utilizar como una función escalar simple en strings constantes."
  },
  {
   "cell_type": "code",
   "id": "13dbdacf-2306-42e2-98f1-72b34f2d1d3c",
   "metadata": {
    "language": "sql",
    "name": "cell2"
   },
   "outputs": [],
   "source": "SELECT AI_AGG('[Excelente, Excelente, Maravilloso, Mediocre]',\n              'Resume las calificaciones del producto para una publicación de blog dirigida a los consumidores. Develve la respuesta en Español.');",
   "execution_count": null
  },
  {
   "cell_type": "markdown",
   "id": "2e46b07d-c2e7-4f3f-9a9a-db1ae87e5160",
   "metadata": {
    "name": "cell5",
    "collapsed": false
   },
   "source": "`AI_AGG` se puede utilizar en una columna de datos.\n\nEn el siguiente ejemplo utilizaremos la función sobre la tabla `reviews` que previamente hemos creado."
  },
  {
   "cell_type": "code",
   "id": "eb6cd670-0c76-4589-94f9-0668a15e887d",
   "metadata": {
    "language": "sql",
    "name": "cell3"
   },
   "outputs": [],
   "source": "SELECT AI_AGG(review,\n              'Resume en tres puntos las calificaciones de los parques de diversiones para una presentación ejecutiva. Devuelve la respuesta en Español.')\n  FROM curso_ia.seccion_2.reviews;",
   "execution_count": null
  },
  {
   "cell_type": "markdown",
   "id": "a06c965d-5c9e-47a3-befe-bea399e71c17",
   "metadata": {
    "name": "cell4",
    "collapsed": false
   },
   "source": "`AI_AGG` también se puede utilizar en combinación con `GROUP BY`. Para mostrar este ejemplo vamos a crear una tabla de nombre `transcripciones` y agregarle algunos datos."
  },
  {
   "cell_type": "code",
   "id": "be331a9b-9910-4e73-acb2-76fa7f17e992",
   "metadata": {
    "language": "sql",
    "name": "cell7"
   },
   "outputs": [],
   "source": "-- Crear la tabla de transcripciones\nCREATE TABLE curso_ia.seccion_2.transcripciones (\n    id_cliente STRING,\n    transcripcion_llamada STRING,\n    sentimiento_bandera STRING\n);",
   "execution_count": null
  },
  {
   "cell_type": "code",
   "id": "381091cd-a27b-439c-be8b-c233854e3378",
   "metadata": {
    "language": "sql",
    "name": "cell8"
   },
   "outputs": [],
   "source": "-- Insertar los valores en la tabla\nINSERT INTO curso_ia.seccion_2.transcripciones (id_cliente, transcripcion_llamada, sentimiento_bandera) VALUES\n('CLI_001', 'Buenos días, quería agradecer por el excelente servicio que recibí ayer. El técnico fue muy profesional y resolvió mi problema rápidamente. Estoy muy satisfecho con la atención. Definitivamente los recomendaré a mis amigos.', 'P'),\n\n('CLI_002', 'Estoy muy molesto porque es la tercera vez que llamo por el mismo problema y nadie me da una solución definitiva. He perdido mucho tiempo esperando y esto es inaceptable. Quiero hablar con un supervisor inmediatamente.', 'N'),\n\n('CLI_003', 'Hola, solo llamaba para consultar sobre mi facturación. Vi algunos cargos que no entiendo muy bien. ¿Podrían explicarme qué incluye cada concepto? Gracias por su ayuda, han sido muy amables al atenderme.', 'P'),\n\n('CLI_004', 'El producto que compré no funciona como esperaba y cuando intenté devolverlo me dijeron que ya no se puede. Esto es una estafa total. Nunca más voy a comprar con ustedes y voy a dejar reseñas negativas en todas partes.', 'N'),\n\n('CLI_005', 'Perfecto, muchas gracias por la información. Me ha quedado todo muy claro sobre el nuevo plan de servicios. Procederé con la actualización como me sugirieron. El proceso fue muy sencillo y el agente fue súper paciente conmigo.', 'P');",
   "execution_count": null
  },
  {
   "cell_type": "code",
   "id": "fff3d5c4-c70c-4fa9-b7f6-1fd57ced5a94",
   "metadata": {
    "language": "sql",
    "name": "cell9"
   },
   "outputs": [],
   "source": "SELECT * FROM curso_ia.seccion_2.transcripciones;",
   "execution_count": null
  },
  {
   "cell_type": "markdown",
   "id": "12187af4-4fbf-4561-89f0-c4eadb6efa53",
   "metadata": {
    "name": "cell10",
    "collapsed": false
   },
   "source": "Ahora utilizamos `AI_AGG` sobre la tabla creada utilizando un `GRUOP BY`"
  },
  {
   "cell_type": "code",
   "id": "5efad55b-e31e-4d6b-bff6-94e0a8dfa9aa",
   "metadata": {
    "language": "sql",
    "name": "cell6"
   },
   "outputs": [],
   "source": "SELECT sentimiento_bandera,\n       AI_AGG(transcripcion_llamada, 'De estas transcripciones de llamadas de varios clientes, resumen el sentimiento de las llamadas sin omitir datos importantes.') AS transcripcion_resumida\n  FROM curso_ia.seccion_2.transcripciones\n GROUP BY 1;",
   "execution_count": null
  },
  {
   "cell_type": "markdown",
   "id": "40804608-de71-4a72-b705-8c533f00ec53",
   "metadata": {
    "name": "cell11",
    "collapsed": false
   },
   "source": "La descripción de la tarea se puede utilizar para diversas tareas de agregación y para configurar el estilo y el tono de la respuesta, veamos un ejemplo."
  },
  {
   "cell_type": "code",
   "id": "d8b6c13a-00cd-4d55-aef5-9fee7041e3ae",
   "metadata": {
    "language": "sql",
    "name": "cell12"
   },
   "outputs": [],
   "source": "SELECT sentimiento_bandera,\n       AI_AGG(transcripcion_llamada, 'De estas transcripciones de llamadas de varios clientes, identifica en una sola palabra el sentimiento más positivo y tradúcelo a Inglés y Francés. La respuesta solo debe contener el sentimiento en ambos idiomas.') AS transcripcion_resumida\n  FROM curso_ia.seccion_2.transcripciones\n GROUP BY 1;",
   "execution_count": null
  },
  {
   "cell_type": "markdown",
   "id": "f623de98-0ea0-46a5-95d3-926df03f7d62",
   "metadata": {
    "name": "cell13",
    "collapsed": false
   },
   "source": "## Función **`AI_SUMMARIZE_AGG`**\n\nEsta función resume una columna de texto. Por ejemplo, `AI_SUMMARIZE_AGG(churn_reason)` devolverá un resumen de la columna `churn_reason`.\n\nA diferencia de `AI_COMPLETE` y `SUMMARIZE (SNOWFLAKE.CORTEX)`, esta función admite conjuntos de datos mayores que la ventana de contexto máxima del modelo de lenguaje.\n\n## Sintaxis\n\n```sql\nAI_SUMMARIZE_AGG( <expr> )\n```\n\n## Notas de uso\n\nEsta función proporciona un resumen general. Para un resumen más específico, debemos utilizar `AI_AGG`.\n\n## Ejemplo"
  },
  {
   "cell_type": "code",
   "id": "97c08ae1-a1f7-423d-8949-6d5b9ae0d8b8",
   "metadata": {
    "language": "sql",
    "name": "cell14"
   },
   "outputs": [],
   "source": "SELECT AI_SUMMARIZE_AGG(transcripcion_llamada) AS resumen\nFROM curso_ia.seccion_2.transcripciones;",
   "execution_count": null
  },
  {
   "cell_type": "markdown",
   "id": "3c1cfef1-2b47-44a6-9673-8ee8bbf2a37a",
   "metadata": {
    "name": "cell15",
    "collapsed": false
   },
   "source": "`AI_SUMMARIZE_AGG` también se puede utilizar en combinación con `GROUP BY.`"
  },
  {
   "cell_type": "code",
   "id": "1224d6b9-66c8-41e5-bf9e-6040128554c6",
   "metadata": {
    "language": "sql",
    "name": "cell16"
   },
   "outputs": [],
   "source": "SELECT sentimiento_bandera,\n       AI_SUMMARIZE_AGG(transcripcion_llamada) AS resumen\nFROM curso_ia.seccion_2.transcripciones\nGROUP BY 1;",
   "execution_count": null
  }
 ]
}