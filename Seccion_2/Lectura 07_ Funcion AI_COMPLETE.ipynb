{
 "metadata": {
  "kernelspec": {
   "display_name": "Streamlit Notebook",
   "name": "streamlit"
  },
  "lastEditStatus": {
   "notebookId": "utc3m4lslbhcwemgssz5",
   "authorId": "5639445461508",
   "authorName": "JOSE",
   "authorEmail": "jmoyacurbelo@outlook.com",
   "sessionId": "9558d7c4-f2fa-442a-9f26-7f1174d6eee5",
   "lastEditTime": 1749244652116
  }
 },
 "nbformat_minor": 5,
 "nbformat": 4,
 "cells": [
  {
   "cell_type": "markdown",
   "id": "5e2002aa-cc6b-4df9-8142-a3ff3225bc0d",
   "metadata": {
    "name": "cell1",
    "collapsed": false
   },
   "source": "Cuando hacemos una solicitud, la función `AI_COMPLETE` genera una respuesta utilizando el modelo de lenguaje que hallamos elegido. \n\nA la función `AI_COMPLETE` podemos proporcionarle lo siguiente:\n\n- Un prompt en formato texto para generar una respuesta del modelo.\n- Una imagen y un prompt en formato texto para generar una respuesta basada en la imagen y el prompt.\n- Un prompt tipo objeto que admite varias imágenes y texto.\n\nLa función `COMPLETE` admite una gran variedad de modelos. Debemos tener en cuenta que cada modelo puede tener diferentes costes. Algunos de los modelos son:\n\n- `claude-3-5-sonnet`\n- `openai-gpt-4.1`\n- `llama3-8b`\n- `llama3.1-8b`\n- `snowflake-arctic`\n\nPara obtener [la lista completa de los modelos soportados](https://docs.snowflake.com/en/user-guide/snowflake-cortex/llm-functions) puede dirigirse a la documentación de Snowflake\n\n## `AI_COMPLETE` simple\n\n### Sintaxis\n\n```sql\nAI_COMPLETE(\n    <model>, <prompt> [ , <model_parameters>, <response_format>, <show_details> ] )\n```"
  },
  {
   "cell_type": "markdown",
   "id": "f4be1dca-f7a5-4e34-8fb1-8b3ad87ac199",
   "metadata": {
    "name": "cell7",
    "collapsed": false
   },
   "source": "### Habilitar **cross-region**\n\nLas funciones LLM de Snowflake Cortex están disponibles actualmente solo en algunas regiones. Para acceder a las LLM de regiones no incluidas, vamos a utilizar el parámetro de inferencia entre regiones `CORTEX_ENABLED_CROSS_REGION`. Para ello vamos a ejecutar lo siguiente:"
  },
  {
   "cell_type": "code",
   "id": "103cb063-aa5c-409d-b012-e466a37c6a18",
   "metadata": {
    "language": "sql",
    "name": "cell6"
   },
   "outputs": [],
   "source": "ALTER ACCOUNT SET CORTEX_ENABLED_CROSS_REGION = 'ANY_REGION';",
   "execution_count": null
  },
  {
   "cell_type": "markdown",
   "id": "42629833-5cde-479b-8c27-8d93bf6867a4",
   "metadata": {
    "name": "cell3",
    "collapsed": false
   },
   "source": "### Ejemplos\n\n**Generar una respuesta simple**"
  },
  {
   "cell_type": "code",
   "id": "a04970f8-0441-4f0d-b8e9-ccc1e0ef78aa",
   "metadata": {
    "language": "sql",
    "name": "cell4"
   },
   "outputs": [],
   "source": "SELECT AI_COMPLETE('snowflake-arctic', '¿Qué es la Inteligencia Artificial?');",
   "execution_count": null
  },
  {
   "cell_type": "code",
   "id": "69c9db56-9017-48ee-9303-90d0ec6897ae",
   "metadata": {
    "language": "sql",
    "name": "cell5",
    "collapsed": false,
    "codeCollapsed": false
   },
   "outputs": [],
   "source": "SELECT AI_COMPLETE('claude-3-5-sonnet', 'Genera un script de Python que cree una sesión de snowpark');",
   "execution_count": null
  },
  {
   "cell_type": "markdown",
   "id": "5e2cfd14-1f52-46a1-b1fb-d3dfa523d4a8",
   "metadata": {
    "name": "cell8",
    "collapsed": false
   },
   "source": "**Generar respuestas de una columna de una tabla**\n\nPara este ejemplo vamos a crear una tabla de nombre `restaurantes` con una columna de `nombre` y otra con `review` y a continuación vamos a generar respuestas a partir de la columna `review`."
  },
  {
   "cell_type": "code",
   "id": "a19b2e14-0953-4dab-a77b-9a03180661d0",
   "metadata": {
    "language": "sql",
    "name": "cell9"
   },
   "outputs": [],
   "source": "-- Crear la base de datos\nCREATE DATABASE curso_ia;\n\n-- Crear el esquema\nCREATE SCHEMA seccion_2;\n\n-- Crear la tabla\nCREATE TABLE curso_ia.seccion_2.restaurantes (\n    nombre VARCHAR(100),\n    review VARCHAR(1000)\n);\n\n-- Insertar 10 registros\nINSERT INTO curso_ia.seccion_2.restaurantes (nombre, review)\nVALUES\n    ('El Rincón Mediterráneo', 'Excelente comida mediterránea. Sus platos de pescado fresco son excepcionales y el servicio muy atento. Ambiente acogedor con terraza perfecta para noches de verano.'),\n    ('Sabores de Asia', 'Auténtica cocina asiática con ingredientes importados. El pad thai y los dumplings son impresionantes. Porciones generosas y precios razonables.'),\n    ('La Trattoria', 'La mejor pasta casera de la ciudad. Sus salsas son preparadas al momento y la carta de vinos es extensa. El tiramisú es imperdible.'),\n    ('Asador El Roble', 'Carnes a la parrilla de primera calidad. El chuletón madurado 45 días vale cada centavo. Servicio un poco lento en horas pico pero la calidad compensa la espera.'),\n    ('Mariscos del Puerto', 'Frescos mariscos y excelente ubicación frente al mar. La paella es espectacular aunque algo cara. Ideal para ocasiones especiales.'),\n    ('Taquería Don Pancho', 'Tacos auténticos mexicanos a precios accesibles. El pastor y la cochinita pibil son deliciosos. Local pequeño pero con mucho sabor y ambiente familiar.'),\n    ('Bistró Parisino', 'Encantador restaurante francés con platos clásicos bien ejecutados. El confit de pato es sublime y los postres son obras de arte. Servicio formal pero cálido.'),\n    ('Veggie Garden', 'Propuesta vegetariana creativa y sabrosa. Sus hamburguesas de garbanzos y el curry de verduras son fantásticos. Personal conocedor y amable.'),\n    ('Brasas & Brasas', 'Parrillada espectacular con carnes argentinas de primera. El chimichurri casero es adictivo. Ambiente rústico y acogedor perfecto para cenas en grupo.'),\n    ('Sushi Sakura', 'El mejor sushi de la zona con pescado ultra fresco. El omakase del chef sorprende siempre con creaciones únicas. Precio elevado pero justificado por la calidad.')\n;",
   "execution_count": null
  },
  {
   "cell_type": "code",
   "id": "4890ec03-adae-49d3-a2dd-4bf1b077c990",
   "metadata": {
    "language": "sql",
    "name": "cell10"
   },
   "outputs": [],
   "source": "-- Generar respuestas a partir de la columna review\n\nSELECT AI_COMPLETE(\n    'mistral-large',\n        CONCAT('Haz una crítica de estos reviews en formato de bullets: <review>', review, '</review>')\n) FROM curso_ia.seccion_2.restaurantes;",
   "execution_count": null
  },
  {
   "cell_type": "markdown",
   "id": "7b7fbcbc-230d-4a68-a08c-03f3c7c02bb0",
   "metadata": {
    "name": "cell11",
    "collapsed": false
   },
   "source": "### Control de temperatura y tokens\n\nEste ejemplo ilustra el uso de los parámetros del modelo para controlar los hiperparámetros de inferencia en una sola respuesta.\n\n`temperature`: Es un valor de 0 a 1 (inclusive) que controla la aleatoriedad de la salida del modelo de lenguaje. Una temperatura más alta (por ejemplo, 0,8) produce una salida más diversa y aleatoria, mientras que una temperatura más baja (como 0,3) la hace más determinista y específica. El valor predeterminado es 0\n\n`max_tokens`: Establece el número máximo de tokens de salida en la respuesta. Valores bajos pueden resultar en respuestas truncadas. El valor predeterminado es 4096. El valor máximo permitido es 8192."
  },
  {
   "cell_type": "code",
   "id": "97cd7ef6-f3ae-4422-b9f4-609966d0287b",
   "metadata": {
    "language": "sql",
    "name": "cell12"
   },
   "outputs": [],
   "source": "SELECT AI_COMPLETE(\n    model => 'openai-gpt-4.1',\n    prompt => '¿Quién es el creador de Python?',\n    model_parameters => {\n\t\t'temperature': 0.6,\n        'max_tokens': 50\n    }\n);",
   "execution_count": null
  },
  {
   "cell_type": "markdown",
   "id": "c9b9a1fd-1967-49b4-a3d6-26a906b54847",
   "metadata": {
    "name": "cell13",
    "collapsed": false
   },
   "source": "### Salida detallada\n\nEl siguiente ejemplo muestra cómo usar el argumento `show_details` para obtener detalles adicionales de la inferencia."
  },
  {
   "cell_type": "code",
   "id": "51c28019-1330-4f41-9e63-8206fcd8e4a8",
   "metadata": {
    "language": "sql",
    "name": "cell2"
   },
   "outputs": [],
   "source": "SELECT AI_COMPLETE(\n    model => 'openai-gpt-4.1',\n    prompt => '¿Quién es el creador de Python?',\n    model_parameters => {\n\t\t'temperature': 0.6,\n        'max_tokens': 50\n    },\n    show_details => true\n);",
   "execution_count": null
  },
  {
   "cell_type": "markdown",
   "id": "4c45b7c0-ecfb-466d-a9f4-476df7728772",
   "metadata": {
    "name": "cell18"
   },
   "source": "Como se observa la respuesta es un objeto JSON que contiene el mensaje del modelo de lenguaje y otra información."
  },
  {
   "cell_type": "markdown",
   "id": "381c9045-6722-4ac2-9685-e774dde7e72a",
   "metadata": {
    "name": "cell17",
    "collapsed": false
   },
   "source": "### Especificar un formato de respuesta JSON\n\nEste ejemplo ilustra el uso del parámetro `response_format` para devolver una respuesta estructurada.\n\nPara mostrar esto vamos a crear otra tabla muy parecida a la anterior pero esta vez con reseñas de hoteles."
  },
  {
   "cell_type": "code",
   "id": "ed7806ba-ede4-4867-a574-a4219895cdcc",
   "metadata": {
    "language": "sql",
    "name": "cell14"
   },
   "outputs": [],
   "source": "-- Crear la tabla\nCREATE TABLE curso_ia.seccion_2.hoteles (\n    nombre VARCHAR(100),\n    review VARCHAR(1000)\n);\n\n-- Insertar 10 registros con reviews de diferentes sentimientos\nINSERT INTO curso_ia.seccion_2.hoteles (nombre, review)\nVALUES\n    ('Grand Palace Hotel', 'Quedamos maravillados con la experiencia. Las habitaciones son espectacularmente espaciosas, el personal siempre disponible para cualquier necesidad y el desayuno buffet superó todas nuestras expectativas. Sin duda volveremos en nuestra próxima visita.'),\n    \n    ('Seaside Resort', 'La ubicación frente al mar es inmejorable. Disfrutamos cada mañana de un amanecer desde nuestro balcón privado. Las camas son tan cómodas que dormimos como bebés. El acceso directo a la playa privada fue la cereza del pastel.'),\n    \n    ('Mountain View Lodge', 'Las instalaciones están bastante limpias, aunque el mobiliario parece algo antiguo. La ubicación es conveniente para visitar las atracciones principales. El desayuno cumple sin sorprender. Es una opción correcta si no buscas lujos.'),\n    \n    ('Urban Boutique Hotel', 'La habitación era mucho más pequeña de lo que mostraban las fotos en la web. El baño necesita una renovación urgente y el aislamiento acústico es prácticamente inexistente. Pagamos demasiado para lo que recibimos.'),\n    \n    ('Business Inn', 'Cumplió con lo básico para un viaje de trabajo. La conexión WiFi funcionó sin problemas y la ubicación cerca del centro de convenciones fue práctica. El desayuno era variado aunque nada del otro mundo. Volvería por motivos de trabajo.'),\n    \n    ('Riverside Hotel', 'Nunca habíamos tenido una experiencia tan desagradable. Las sábanas estaban manchadas, encontramos polvo por todas partes y el ruido del aire acondicionado no nos dejó dormir. El personal fue completamente indiferente a nuestras quejas.'),\n    \n    ('Skyline Towers', 'La vista desde el piso 30 es absolutamente impresionante. El servicio de concierge resolvió todas nuestras necesidades y la piscina en la azotea es un sueño. Vale cada centavo que pagamos por la estancia.'),\n    \n    ('Cozy Inn', 'Es un hotel correcto para pasar un par de noches. La habitación estaba limpia aunque el baño necesita algunas mejoras. El desayuno es básico pero suficiente. La relación calidad-precio es adecuada si no esperas grandes lujos.'),\n    \n    ('Historic Palace Hotel', 'La ubicación es buena, pero ahí terminan los aspectos positivos. Habitación húmeda, personal desinteresado y un desayuno que dejaba mucho que desear. Por el precio que cobran, esperábamos mucho más.'),\n    \n    ('Garden Resort & Spa', 'Los jardines son un verdadero oasis de paz. El tratamiento en el spa fue revitalizante y las cenas en el restaurante gourmet inolvidables. El personal se aprende tu nombre desde el primer día y los detalles en la habitación son exquisitos.')\n;",
   "execution_count": null
  },
  {
   "cell_type": "markdown",
   "id": "a5d472de-eb27-455a-8f13-3694e1403549",
   "metadata": {
    "name": "cell16",
    "collapsed": false
   },
   "source": "Ahora utilizamos la función `AI_COMPLETE` con el parámetro `response_format`."
  },
  {
   "cell_type": "code",
   "id": "aa5d5a40-2bef-4b8f-88a0-9c1c6c25a578",
   "metadata": {
    "language": "sql",
    "name": "cell19"
   },
   "outputs": [],
   "source": "SELECT AI_COMPLETE(\n    model => 'llama2-70b-chat',\n    prompt => CONCAT('Del siguiente review de hotel extrae el sentimiento de las siguientes categorías: <comida,habitaciones,precio,ubicación>, en caso de no encontar información sobre alguna categoría responde con <no se menciona> para esa categoría.', review),\n    model_parameters => {\n        'temperature': 0,\n        'max_tokens': 4096\n    },\n    response_format => {\n            'type':'json',\n            'schema':{'type' : 'object','properties' : {'sentimientos_categorias':{'type':'array','items':{'type':'object','properties':\n            {'comida' : {'type' : 'string'},'habitaciones': {'type':'string'}, 'precio': {'type':'string'}, 'ubicacion': {'type':'string'}},'required':['comida','habitaciones' ,'precio','ubicacion']}}}}\n    },\n    show_details => true\n) from curso_ia.seccion_2.hoteles;",
   "execution_count": null
  }
 ]
}