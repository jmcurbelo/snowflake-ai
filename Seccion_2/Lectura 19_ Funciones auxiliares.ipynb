{
 "metadata": {
  "kernelspec": {
   "display_name": "Streamlit Notebook",
   "name": "streamlit"
  },
  "lastEditStatus": {
   "notebookId": "pubqmcn4chyldeduvmk2",
   "authorId": "4679294932002",
   "authorName": "JOSE",
   "authorEmail": "jmoyacurbelo@outlook.com",
   "sessionId": "10d65c8f-2496-49c8-8263-9aec9beb8ae4",
   "lastEditTime": 1747276509695
  }
 },
 "nbformat_minor": 5,
 "nbformat": 4,
 "cells": [
  {
   "cell_type": "markdown",
   "id": "9d1d7c3e-475b-4a64-a94a-be8ada6562f0",
   "metadata": {
    "name": "cell1",
    "collapsed": false
   },
   "source": "Las funciones auxiliares son funciones que están diseñadas para ayudar a reducir errores al ejecutar otras funciones de Cortex LLM.\n\n### `COUNT_TOKENS`\n\nLa función `COUNT_TOKENS` calcula la cantidad de tokens que pasaremos en una solicitud al LLM cuando utilizamos la función `COMPLETE` .\n\n### Sintaxis\n\n```sql\nSNOWFLAKE.CORTEX.COUNT_TOKENS( <model_name> , <input_text> )\n\nSNOWFLAKE.CORTEX.COUNT_TOKENS( <function_name> , <input_text> )\n```\n\n### Ejemplo\n\nEn este ejemplo vamos a contar la cantidad de tokens que pasaríamos al modelo `llama3-8b` con un texto determinado al utilizar la función `COMPLETE`."
  },
  {
   "cell_type": "code",
   "id": "3cc77b63-196e-45e6-a297-6a74535afa8a",
   "metadata": {
    "language": "sql",
    "name": "cell2"
   },
   "outputs": [],
   "source": "SELECT SNOWFLAKE.CORTEX.COUNT_TOKENS( 'llama3-8b', 'La IA generativa es una tecnología capaz de crear contenido original, como texto, imágenes o música, a partir de patrones aprendidos de grandes conjuntos de datos. Gracias a modelos avanzados como GPT-4 o DALL-E, puede imitar estilos humanos y producir resultados sorprendentemente creativos. Sin embargo, su uso también plantea desafíos éticos, como la autoría de las obras generadas o la posible difusión de información falsa.');",
   "execution_count": null
  },
  {
   "cell_type": "markdown",
   "id": "dc097bb6-b313-4a0d-a259-ce326038b318",
   "metadata": {
    "name": "cell3",
    "collapsed": false
   },
   "source": "Si queremos hacer el conteo de tokens que utilizaríamos con la función `SUMMARIZE` y el mismo texto anterior lo podríamos hacer de la siguiente forma."
  },
  {
   "cell_type": "code",
   "id": "c49ead3a-96b2-49e1-a79b-c4586cd51b74",
   "metadata": {
    "language": "sql",
    "name": "cell4"
   },
   "outputs": [],
   "source": "SELECT SNOWFLAKE.CORTEX.COUNT_TOKENS( 'summarize', 'La IA generativa es una tecnología capaz de crear contenido original, como texto, imágenes o música, a partir de patrones aprendidos de grandes conjuntos de datos. Gracias a modelos avanzados como GPT-4 o DALL-E, puede imitar estilos humanos y producir resultados sorprendentemente creativos. Sin embargo, su uso también plantea desafíos éticos, como la autoría de las obras generadas o la posible difusión de información falsa.');",
   "execution_count": null
  },
  {
   "cell_type": "markdown",
   "id": "11aaedd9-d5a1-4a5f-a708-abaabf1cc6dd",
   "metadata": {
    "name": "cell5",
    "collapsed": false
   },
   "source": "### `TRY_COMPLETE`\n\nRealiza la misma operación que la función `COMPLETE`, pero devuelve `NULL` en lugar de generar un error cuando la operación no se puede realizar.\n\n### Ejemplo"
  },
  {
   "cell_type": "code",
   "id": "43e2bf52-2fb3-4d0f-8b1a-9e031b92bfed",
   "metadata": {
    "language": "sql",
    "name": "cell6"
   },
   "outputs": [],
   "source": "SELECT SNOWFLAKE.CORTEX.TRY_COMPLETE('mistral-7b', 'Resume en tres oraciones la arquitectura de Snowflake');",
   "execution_count": null
  },
  {
   "cell_type": "markdown",
   "id": "95e0b00a-d19d-4c88-bd87-34465aae04af",
   "metadata": {
    "name": "cell7",
    "collapsed": false
   },
   "source": "Para conocer las condiciones de error que devuelven NULL, consulte las [condiciones de error](https://docs.snowflake.com/en/user-guide/snowflake-cortex/llm-functions#label-cortex-llm-model-errors) en la documentación de Snowflake."
  }
 ]
}