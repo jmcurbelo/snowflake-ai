{
 "metadata": {
  "kernelspec": {
   "display_name": "Streamlit Notebook",
   "name": "streamlit"
  },
  "lastEditStatus": {
   "notebookId": "fvwcsifpswratu47t5s3",
   "authorId": "5639445461508",
   "authorName": "JOSE",
   "authorEmail": "jmoyacurbelo@outlook.com",
   "sessionId": "93ca39c3-9687-4f60-bfb4-f836c296262a",
   "lastEditTime": 1749294670712
  }
 },
 "nbformat_minor": 5,
 "nbformat": 4,
 "cells": [
  {
   "cell_type": "markdown",
   "id": "8c25a878-007d-4c53-9c3c-c075cdc2b2a9",
   "metadata": {
    "name": "cell1",
    "collapsed": false
   },
   "source": "En esta lección vamos a ver cómo utilizar la función `AI_CLASSIFY` de Cortex AISQL desde Python."
  },
  {
   "cell_type": "code",
   "id": "21844d69-10c4-44ff-aca8-97ce5e95776d",
   "metadata": {
    "language": "python",
    "name": "cell2",
    "collapsed": false,
    "codeCollapsed": false
   },
   "outputs": [],
   "source": "# Importar las liberías\nfrom snowflake.snowpark.context import get_active_session\nfrom snowflake.snowpark.functions import ai_classify\n\n\n# Obtener la sesión de snowpark activa\nsession = get_active_session()",
   "execution_count": null
  },
  {
   "cell_type": "markdown",
   "id": "4e15d6e6-a6b3-42af-bdae-5ed52046d84f",
   "metadata": {
    "name": "cell4",
    "collapsed": false
   },
   "source": "A continuación vamos a crear un texto y una lista de categorías posibles y vamos a usar la función `ai_classify` para que nos clasifique el texto."
  },
  {
   "cell_type": "code",
   "id": "a9728749-61a8-4a76-90ed-c2e8a918e43d",
   "metadata": {
    "language": "python",
    "name": "cell3"
   },
   "outputs": [],
   "source": "texto = \"\"\"\nEl senderismo es una actividad al aire libre que permite conectar con la naturaleza mientras\nse ejercita el cuerpo. Muchas personas lo practican en montañas, bosques o parques nacionales\npara escapar del estrés urbano. Además, es una excelente manera de descubrir paisajes\nimpresionantes y fomentar la conservación del medio ambiente.\n\"\"\"\n\ncategorias = ['Aventura', 'Naturaleza', 'Tecnología']",
   "execution_count": null
  },
  {
   "cell_type": "code",
   "id": "d5065147-3542-4f3d-90bc-58ecb30a1c0c",
   "metadata": {
    "language": "python",
    "name": "cell5"
   },
   "outputs": [],
   "source": "# Creamos un snowpark dataframe\n\ndf = session.create_dataframe([\n    [texto],\n], schema=[\"texto\"])\n\n# Utilizamos la función ai_classify\ndf = df.select(\n    \"texto\",\n    (ai_classify(\"texto\", categorias)['labels'][0]).alias(\"clasificacion\")\n)\n\n# Mostramos el dataframe de salida\ndf.show()",
   "execution_count": null
  }
 ]
}