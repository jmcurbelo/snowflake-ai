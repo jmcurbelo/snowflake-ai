{
 "metadata": {
  "kernelspec": {
   "display_name": "Streamlit Notebook",
   "name": "streamlit"
  },
  "lastEditStatus": {
   "notebookId": "vgs52uq24lemct3qocsb",
   "authorId": "4679294932002",
   "authorName": "JOSE",
   "authorEmail": "jmoyacurbelo@outlook.com",
   "sessionId": "300fca0e-f17d-473d-84f9-1965d96c0704",
   "lastEditTime": 1746253013210
  }
 },
 "nbformat_minor": 5,
 "nbformat": 4,
 "cells": [
  {
   "cell_type": "markdown",
   "id": "2f966ca2-6c67-424a-bde6-27e8f293ec1c",
   "metadata": {
    "name": "cell1",
    "collapsed": false
   },
   "source": "### Controlar el acceso a los modelos\n\nExisten dos métodos para controlar el acceso a los modelos en Snowflake Cortex. Podemos usar uno o ambos métodos a la vez para lograr un control de acceso amplio y detallado:\n\n- Lista de modelos permitidos\n- Control de acceso basado en roles\n\n*En esta lección veremos como usar la lista de modelos permitidos, si usted está interesado en profundizar en el acceso a los modelos mediante en el control de acceso basado en roles puede encontrar el detalle en la documentación oficial de Snowflake.*\n\nLa lista de modelos permitidos proporciona un nivel predeterminado de acceso a los modelos para todos los usuarios de la cuenta, que se puede personalizar mediante el parámetro `CORTEX_MODELS_ALLOWLIST`. \n\nEl control de acceso basado en roles permite una gestión de acceso detallada al otorgar o revocar privilegios a modelos específicos mediante roles de aplicación.\n\n### Lista de modelos permitidos\n\nPodemos utilizar el parámetro `CORTEX_MODELS_ALLOWLIST` del comando `ALTER ACCOUNT SET` para configurar el acceso a los modelos para todos los usuarios de la cuenta. Podemos incluir en la lista de modelos permitidos todos los modelos, incluidos los optimizados. \n\nSi necesitamos otorgar a usuarios específicos acceso adicional al especificado en la lista de permitidos, debemos utilizar el control de acceso basado en roles.\n\nCuando los usuarios realizan una solicitud, Snowflake Cortex evalúa el parámetro para determinar si el usuario puede acceder al modelo."
  },
  {
   "cell_type": "markdown",
   "id": "b8b1143d-bbef-4e78-9665-809462d6c2d5",
   "metadata": {
    "name": "cell2",
    "collapsed": false
   },
   "source": "Para el parámetro `CORTEX_MODELS_ALLOWLIST`, podemos establecer los siguientes valores:\n\n- `CORTEX_MODELS_ALLOWLIST = 'All'`: Proporciona acceso a todos los modelos."
  },
  {
   "cell_type": "code",
   "id": "ed12f914-3908-4e6c-836a-9c1d501446be",
   "metadata": {
    "language": "sql",
    "name": "cell3"
   },
   "outputs": [],
   "source": "ALTER ACCOUNT SET CORTEX_MODELS_ALLOWLIST = 'All';",
   "execution_count": null
  },
  {
   "cell_type": "markdown",
   "id": "d988a91a-71c7-4620-9a55-a424edcae2a5",
   "metadata": {
    "name": "cell4",
    "collapsed": false
   },
   "source": "- `CORTEX_MODELS_ALLOWLIST = 'modelo1,modelo2,...'`: Proporciona a los usuarios acceso a los modelos especificados en una lista separada por comas."
  },
  {
   "cell_type": "code",
   "id": "f6dee374-db36-4c71-a83a-3b7d73ee6eb3",
   "metadata": {
    "language": "sql",
    "name": "cell5"
   },
   "outputs": [],
   "source": "ALTER ACCOUNT SET CORTEX_MODELS_ALLOWLIST = 'claude-3-5-sonnet,llama3.1-70b';",
   "execution_count": null
  },
  {
   "cell_type": "markdown",
   "id": "330d1181-cd21-4cd3-87cd-ffc15245ce21",
   "metadata": {
    "name": "cell6",
    "collapsed": false
   },
   "source": "- `CORTEX_MODELS_ALLOWLIST = 'None’`: Impide que los usuarios accedan a cualquier modelo."
  },
  {
   "cell_type": "code",
   "id": "fcfe2f55-b7a3-46f4-bd4f-1dbf23acf79e",
   "metadata": {
    "language": "sql",
    "name": "cell7"
   },
   "outputs": [],
   "source": "ALTER ACCOUNT SET CORTEX_MODELS_ALLOWLIST = 'None';",
   "execution_count": null
  },
  {
   "cell_type": "markdown",
   "id": "fe969017-2fc4-473b-9935-e6fa6790866b",
   "metadata": {
    "name": "cell8",
    "collapsed": false
   },
   "source": "### Regresamos el parámetro `CORTEX_MODELS_ALLOWLIST = 'All'`"
  },
  {
   "cell_type": "code",
   "id": "5e039f15-aa54-43b3-b638-2f39911c8e48",
   "metadata": {
    "language": "sql",
    "name": "cell9"
   },
   "outputs": [],
   "source": "ALTER ACCOUNT SET CORTEX_MODELS_ALLOWLIST = 'All';",
   "execution_count": null
  }
 ]
}