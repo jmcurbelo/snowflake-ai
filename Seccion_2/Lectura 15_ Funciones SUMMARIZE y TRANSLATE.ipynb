{
 "metadata": {
  "kernelspec": {
   "display_name": "Streamlit Notebook",
   "name": "streamlit"
  },
  "lastEditStatus": {
   "notebookId": "3r6ihr7hb52j4dqm75l5",
   "authorId": "4679294932002",
   "authorName": "JOSE",
   "authorEmail": "jmoyacurbelo@outlook.com",
   "sessionId": "691ba970-fccc-453a-aa73-269be48050d0",
   "lastEditTime": 1746915126892
  }
 },
 "nbformat_minor": 5,
 "nbformat": 4,
 "cells": [
  {
   "cell_type": "markdown",
   "id": "89c6a9c8-16e8-40d2-96e3-a3f92a53ffb5",
   "metadata": {
    "name": "cell1",
    "collapsed": false
   },
   "source": "### `SUMMARIZE`\n\nLa función `SUMMARIZE` resume el texto de entrada proporcionado.\n\n### Sintaxis\n\n```sql\nSNOWFLAKE.CORTEX.SUMMARIZE(<text>)\n```\n\n### Argumentos\n\n`<text>`: Un string que contiene **el texto en inglés** a partir del cual se generará el resumen. Al momento solo funciona con texto en inglés.\n\n### Devuelve\n\nUn string que contiene un resumen del texto original.\n\n### Ejemplo\n\nPara este ejemplo vamos a crear una tabla que contiene el nombre de laptops y reseñas de esas laptops. Luego utilizaremos la función `SUMMARIZE` para resumir esas reseñas."
  },
  {
   "cell_type": "code",
   "id": "2daa8804-49ab-441b-a817-cfab571bdc72",
   "metadata": {
    "language": "sql",
    "name": "cell2"
   },
   "outputs": [],
   "source": "-- Establecer el contexto\nUSE DATABASE curso_ia;\nUSE SCHEMA seccion_2;\n\n-- Crear tabla para reseñas de laptops\nCREATE OR REPLACE TABLE laptops (\n   laptop VARCHAR(100),\n   revision VARCHAR(5000)\n);",
   "execution_count": null
  },
  {
   "cell_type": "code",
   "id": "c3efc6f7-dc72-4bf4-a02c-0e0f8e9b1471",
   "metadata": {
    "language": "sql",
    "name": "cell3",
    "codeCollapsed": false
   },
   "outputs": [],
   "source": "-- Insertar 5 registros con reseñas detalladas de diferentes laptops en inglés\n\nINSERT INTO laptops (laptop, revision)\nVALUES\n   ('MacBook Pro 16\" M3', 'The MacBook Pro 16\" with M3 chip offers exceptional performance for professional tasks. Its Liquid Retina XDR display provides impressive contrast and brightness, ideal for photo and video editing. Battery life exceeds 15 hours with intensive use, eliminating the need to carry the charger during the workday. The Magic Keyboard has adequate travel and the speakers offer high-quality surround sound. However, its high price and lack of USB-A ports make it less accessible to some users. Cooling has improved significantly compared to previous models, maintaining controlled temperatures even under demanding workloads such as 3D rendering or code compilation.'),\n   \n   ('Dell XPS 15', 'The Dell XPS 15 combines power and portability in an elegant aluminum and carbon fiber chassis. Its 4K OLED display offers vibrant colors with DisplayHDR 400 certification, perfect for creatives. The Intel Core i9 processor and NVIDIA RTX 4070 GPU handle demanding software like Adobe Premiere or AutoCAD with ease. The backlit keyboard has comfortable travel for long writing sessions, although the trackpad could be larger. Battery life is around 8 hours with moderate use, below expectations for this price range. The speakers tuned by Waves MaxxAudio Pro deliver clear sound with good bass. Its main disadvantage is the high temperature during intensive loads, which causes throttling and fan noise.'),\n   \n   ('Lenovo ThinkPad X1 Carbon Gen 11', 'The ThinkPad X1 Carbon Gen 11 maintains the legendary durability of the series with an ultralight 1.12kg chassis that has passed MIL-STD-810H military tests. The keyboard is possibly the best on the market, with a 1.5mm key travel that offers an unmatched typing experience. The 14\" WUXGA (1920x1200) display has anti-glare treatment and reaches 400 nits, sufficient for outdoor work. The characteristic red TrackPoint and physical touchpad buttons are highly appreciated by veteran users. Battery life exceeds 12 hours with office use. Enterprise security includes fingerprint reader, IR camera for Windows Hello, and dTPM 2.0 chip. Its performance is solid for professional tasks, although it is not oriented towards applications requiring powerful GPU. The main drawback is its premium price compared to laptops with similar specifications.'),\n   \n   ('ASUS ROG Zephyrus G14', 'The ASUS ROG Zephyrus G14 redefines compact gaming laptops with a weight of just 1.7kg without sacrificing power. Equipped with AMD Ryzen 9 processor and NVIDIA RTX 4060 GPU, it handles AAA games at over 60fps on high settings. The 14\" QHD 165Hz display with 500 nits and 100% DCI-P3 coverage offers an exceptional visual experience for both gaming and creative work. The customizable AniMe Matrix LED array on the lid allows for personalized animations that add a unique touch. The keyboard has good travel although the layout may be somewhat compact. Cooling with liquid metal and Arc Flow fans keeps temperatures under control even during long sessions. The battery surprisingly lasts 8-10 hours in normal use, unusual in gaming laptops. The Dolby Atmos certified speakers deliver immersive and powerful sound for its size. The main drawback is the 720p webcam with mediocre quality.'),\n   \n   ('HP Spectre x360 14', 'The HP Spectre x360 14 stands out for its versatility with a 2-in-1 convertible design and premium aluminum chassis in Nightfall Black with copper accents. The 13.5\" 3K2K (3000x2000) OLED display with 3:2 ratio provides greater vertical area for productivity and accurate colors with Pantone certification. The included HP active pen offers 4096 pressure levels, ideal for note-taking or sketching. Security features include a webcam Kill Switch, fingerprint reader, and IR camera. Bang & Olufsen audio with four speakers delivers clear and powerful sound. Battery life reaches 10-12 hours with mixed use. The Intel Core Ultra processor with dedicated NPU optimizes AI tasks such as background blur in video calls or audio enhancement. The distinctive beveled edges are not only aesthetic but make opening the laptop easier. Its main disadvantage is the limited cooling system that can cause throttling under sustained intensive loads and the high price compared to traditional non-convertible laptops.')\n;",
   "execution_count": null
  },
  {
   "cell_type": "code",
   "id": "b0457b69-168f-40ec-a70c-4c02e09c244e",
   "metadata": {
    "language": "sql",
    "name": "cell4",
    "codeCollapsed": false
   },
   "outputs": [],
   "source": "SELECT\n    laptop,\n    revision,\n    SNOWFLAKE.CORTEX.SUMMARIZE(revision) AS resumen\nFROM curso_ia.seccion_2.laptops;",
   "execution_count": null
  },
  {
   "cell_type": "markdown",
   "id": "9a6c9656-8df3-4429-9039-da1d5aeefc60",
   "metadata": {
    "name": "cell5",
    "collapsed": false
   },
   "source": "### `TRANSLATE`\n\nLa función `TRANSLATE` traduce el texto de entrada dado de un idioma compatible a otro.\n\n### Sintaxis\n\n```sql\nSNOWFLAKE.CORTEX.TRANSLATE(\n    <text>, <source_language>, <target_language>)\n```\n\n### Argumentos\n\n- `<text>`: String que contiene el texto que se va a traducir.\n- `<source_language>`: String que especifica el código de idioma del idioma en el que se encuentra el texto.\n- `<target_language>`: String que especifica el código de idioma al que se debe traducir el texto.\n\n### Idiomas soportados\n\nLa función `TRANSLATE` admite los siguientes idiomas. Debemos utilizar el código de idioma correspondiente para el idioma de origen y el de destino.\n\nTRANSLATE también admite la combinación de dos idiomas diferentes en el texto que se traduce (por ejemplo, \"spanglish\"). En este caso, debemos especificar una cadena vacía (`''`) como idioma de origen para detectar automáticamente los idiomas utilizados en el texto de origen.\n\n| **Lenguaje** | **Código** |\n| --- | --- |\n| Chinese | `'zh'` |\n| Dutch | `'nl'` |\n| English | `'en'` |\n| French: | `'fr'` |\n| German | `'de'` |\n| Hindi | `'hi'` |\n| Italian | `'it'` |\n| Japanese | `'ja'` |\n| Korean | `'ko'` |\n| Polish | `'pl'` |\n| Portuguese | `'pt'` |\n| Russian | `'ru'` |\n| Spanish | `'es'` |\n| Swedish | `'sv'` |\n\n### Ejemplo\n\nVamos a traducir las reseñas que tenemos en la tabla de laptops que previamente hemos creado."
  },
  {
   "cell_type": "code",
   "id": "08ee88ab-8c42-47a4-9e0d-17d4827ad5e4",
   "metadata": {
    "language": "sql",
    "name": "cell6"
   },
   "outputs": [],
   "source": "SELECT\n    laptop,\n    revision,\n    SNOWFLAKE.CORTEX.TRANSLATE(revision, 'en', 'es') AS spanish\nFROM curso_ia.seccion_2.laptops;",
   "execution_count": null
  },
  {
   "cell_type": "markdown",
   "id": "01784184-7883-4c3c-b73b-00defb2dbb7b",
   "metadata": {
    "name": "cell7",
    "collapsed": false
   },
   "source": "### Funciones `SUMMARIZE` y `TRANSLATE` en Python\n\nVeamos a continuación como utilizar las funciones `SUMMARIZE` y `TRANSLATE` desde Python. En el siguiente ejemplo combinaremos ambas funciones."
  },
  {
   "cell_type": "code",
   "id": "4818e8ca-1894-4a2f-8946-9a26fab83e0c",
   "metadata": {
    "language": "python",
    "name": "cell8"
   },
   "outputs": [],
   "source": "# Importar las liberías\nfrom snowflake.snowpark.context import get_active_session\nfrom snowflake.cortex import summarize, translate\nfrom snowflake.snowpark.functions import col\n\n\n# Obtener la sesión de snowpark activa\nsession = get_active_session()",
   "execution_count": null
  },
  {
   "cell_type": "code",
   "id": "84b80610-beed-409b-b4c4-dab7e059e5fe",
   "metadata": {
    "language": "python",
    "name": "cell9",
    "codeCollapsed": false
   },
   "outputs": [],
   "source": "# Leemos la tabla\n\nlaptops = session.table('curso_ia.seccion_2.laptops')",
   "execution_count": null
  },
  {
   "cell_type": "code",
   "id": "1f8fdaa2-ba3b-416e-85dc-51e380c896ce",
   "metadata": {
    "language": "python",
    "name": "cell10"
   },
   "outputs": [],
   "source": "# Empleamos la funciones summarize y tranlate\n\n(\n    laptops\n        .with_column('resume', summarize(col('revision')))\n        .with_column('Spanish', translate(col('revision'), 'en', 'es'))\n).show()",
   "execution_count": null
  }
 ]
}