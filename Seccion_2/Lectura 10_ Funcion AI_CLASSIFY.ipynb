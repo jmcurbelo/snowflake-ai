{
 "metadata": {
  "kernelspec": {
   "display_name": "Streamlit Notebook",
   "name": "streamlit"
  },
  "lastEditStatus": {
   "notebookId": "rwlmr7mimgnslfa5ysup",
   "authorId": "5639445461508",
   "authorName": "JOSE",
   "authorEmail": "jmoyacurbelo@outlook.com",
   "sessionId": "022108dc-4ac6-4168-90be-c1a5f0f77618",
   "lastEditTime": 1749293734970
  }
 },
 "nbformat_minor": 5,
 "nbformat": 4,
 "cells": [
  {
   "cell_type": "markdown",
   "id": "4c1d198a-55e9-4a71-b15f-9137ec7acfba",
   "metadata": {
    "name": "cell1",
    "collapsed": false
   },
   "source": "La función `AI_CLASSIFY` clasifica texto o imágenes en las categorías que les proporcionemos.\n\n### Sintaxis\n\n```sql\nAI_CLASSIFY( <input> , <list_of_categories> [, <config_object>] )\n```\n\n### Argumentos:\n\n**`<input>`**: Texto, imagen u objeto a clasificar. Para la clasificación de texto, el texto de entrada distingue entre mayúsculas y minúsculas. Es posible que obtengamos resultados diferentes para un mismo texto que utilice distintas mayúsculas y minúsculas.\n\n**`<list_of_categories>`**: Array que contiene las categorías. Debe contener al menos una y como máximo 500 categorías únicas. Las categorías distinguen entre mayúsculas y minúsculas. \n\nLas categorías pueden ser strings simples u objetos SQL del mismo tipo. Si utilizamos objetos, podemos proporcionar una descripción para una o más categorías para mejorar la precisión de la clasificación.\n\nPara cada categoría, debemos especificar lo siguiente:\n\n- `label` (obligatorio): El nombre de la categoría.\n- `description` (opcional): Describe la categoría en un máximo de 25 palabras.\n\n**Opcional:**\n\n**`<config_object>:`** Opciones de configuración especificadas como pares clave-valor. Claves compatibles:\n\n- `task_description`: Una explicación de la tarea de clasificación de 50 palabras o menos. Esto puede ayudar al modelo a comprender el contexto de la tarea de clasificación y mejorar la precisión.\n- `output_mode`: Se establece en `'multi'` para la clasificación multietiqueta. El valor predeterminado es `'single'` para la clasificación de una sola etiqueta.\n- `examples`: Una lista de objetos de ejemplo para que el aprendizaje sea con pocos intentos. Cada ejemplo debe incluir:\n    - `input`: Texto de ejemplo para clasificar.\n    - `labels`: Lista de categorías correctas para la entrada.\n    - `explanation`: Explicación de por qué la entrada se asigna a esas categorías.\n\n\n## **`AI_CLASSIFY`: Texto**\n\n### Ejemplo con los argumentos requeridos\n\nEste ejemplo ilustra cómo utilizar la función `AI_CLASSIFY` solo con los argumentos requeridos."
  },
  {
   "cell_type": "code",
   "id": "bad94f7b-0ead-41e9-a813-f999550fe27f",
   "metadata": {
    "language": "sql",
    "name": "cell2"
   },
   "outputs": [],
   "source": "SELECT AI_CLASSIFY('El atardecer en la playa es un espectáculo natural que inspira paz y reflexión. Los tonos dorados, rosados y morados del cielo se funden con el sonido de las olas. Cada puesta de sol es única, regalando un momento efímero de belleza.', ['Naturaleza', 'Bienestar emocional', 'Fotografía']);",
   "execution_count": null
  },
  {
   "cell_type": "markdown",
   "id": "0e4e5a88-c872-4370-b97a-40f7d1960d65",
   "metadata": {
    "name": "cell5",
    "collapsed": false
   },
   "source": "### Notas de uso\n\nPara un rendimiento óptimo, siga estas pautas:\n\n- Utilice texto en inglés simple para la entrada y las categorías.\n- Limite la cantidad de texto que no esté en inglés simple en el texto de entrada. Por ejemplo, intente limitar el contenido como fragmentos de código o registros en la entrada de texto.\n- El texto no debe contener código ni formatos que no sean de código abierto.\n- No utilice abreviaturas, caracteres especiales ni jerga en las etiquetas de las categorías.\n- Las categorías deben ser descriptivas. Por ejemplo, usar una categoría como Xa4s3 o la categoría 1 no producirá buenos resultados.\n- Las categorías deben ser mutuamente excluyentes.\n- Añadir una descripción clara de la tarea puede mejorar la precisión cuando la relación entre el texto de entrada y las categorías es ambigua o tiene matices.\n- Añadir descripciones de las etiquetas puede mejorar la precisión en casos donde las descripciones son ambiguas o cuando se debe seguir una lógica específica al seleccionar una etiqueta en particular. Al escribir descripciones, concéntrese en los aspectos clave que distinguen una etiqueta de las demás.\n- Los ejemplos pueden ayudar a mejorar la precisión."
  },
  {
   "cell_type": "markdown",
   "id": "5795cd1b-7f05-43e7-a7f3-88e8eef91b10",
   "metadata": {
    "name": "cell4",
    "collapsed": false
   },
   "source": "### Ejemplo con una tabla de valores\n\nEl siguiente ejemplo crea una tabla, `clasificacion_textos`, que contiene una columna para texto y otra para posibles categorías del texto. Se llama a la función `AI_CLASSIFY` en cada fila de la tabla para clasificar el texto."
  },
  {
   "cell_type": "code",
   "id": "1134995a-2e57-40f1-b49b-44cf1e5674d3",
   "metadata": {
    "language": "sql",
    "name": "cell3"
   },
   "outputs": [],
   "source": "USE DATABASE curso_ia;\nUSE SCHEMA seccion_2;\n\n-- Crear la tabla\nCREATE TABLE clasificacion_textos (\n   texto VARCHAR(500),\n   categorias ARRAY\n);",
   "execution_count": null
  },
  {
   "cell_type": "code",
   "id": "d03a7acf-d94c-42be-a2ff-bda094a7e721",
   "metadata": {
    "language": "sql",
    "name": "cell6",
    "codeCollapsed": false
   },
   "outputs": [],
   "source": "-- Insertar 5 filas con diferentes temas usando ARRAY_CONSTRUCT con la sintaxis SELECT\n\nINSERT INTO clasificacion_textos (texto, categorias)\n  SELECT 'El nuevo sistema de transporte público ha reducido significativamente el tráfico en la ciudad. Los tiempos de viaje han mejorado en un 30% desde su implementación.',\n         ARRAY_CONSTRUCT('transporte','urbanismo','medio ambiente','tecnología');\n\nINSERT INTO clasificacion_textos (texto, categorias)\n  SELECT 'Los glaciares del Ártico continúan derritiéndose a un ritmo alarmante. Los científicos advierten que esto podría tener consecuencias irreversibles para los ecosistemas marinos.',\n         ARRAY_CONSTRUCT('cambio climático','medio ambiente','ciencia','geografía');\n\nINSERT INTO clasificacion_textos (texto, categorias)\n  SELECT 'El reciente lanzamiento del videojuego ha batido todos los récords de ventas del sector. Los críticos lo consideran una obra maestra de la narrativa interactiva.',\n         ARRAY_CONSTRUCT('entretenimiento','tecnología','videojuegos','economía');\n\nINSERT INTO clasificacion_textos (texto, categorias)\n  SELECT 'La nueva política fiscal ha generado opiniones divididas entre economistas. Los mercados han reaccionado con cautela ante los cambios propuestos.',\n         ARRAY_CONSTRUCT('economía','política','finanzas','legislación');\n\nINSERT INTO clasificacion_textos (texto, categorias)\n  SELECT 'El festival de cine independiente presentó obras de realizadores de más de 25 países. La película ganadora aborda temas de identidad cultural en un contexto globalizado.',\n         ARRAY_CONSTRUCT('arte','cultura','entretenimiento','sociedad');",
   "execution_count": null
  },
  {
   "cell_type": "code",
   "id": "c044d614-7155-4184-b565-9795ef79f61d",
   "metadata": {
    "language": "sql",
    "name": "cell7",
    "codeCollapsed": false
   },
   "outputs": [],
   "source": "SELECT * FROM clasificacion_textos;",
   "execution_count": null
  },
  {
   "cell_type": "markdown",
   "id": "1d95a570-8933-4de1-b6a7-ca0e369f2dd0",
   "metadata": {
    "name": "cell10",
    "collapsed": false
   },
   "source": ""
  },
  {
   "cell_type": "code",
   "id": "72613537-9dd8-4d7a-a349-785a23469f70",
   "metadata": {
    "language": "sql",
    "name": "cell8"
   },
   "outputs": [],
   "source": "SELECT texto,\n       categorias,\n       AI_CLASSIFY(texto, categorias)['labels']::string as clasificacion\nFROM clasificacion_textos;",
   "execution_count": null
  },
  {
   "cell_type": "markdown",
   "id": "be1203bf-810f-4655-b5d2-c7e064471411",
   "metadata": {
    "name": "cell15",
    "collapsed": false
   },
   "source": "El siguiente ejemplo utiliza una clasificación de múltiples etiquetas."
  },
  {
   "cell_type": "code",
   "id": "fdf557d2-e1c4-49dd-855e-17ed0b2d9230",
   "metadata": {
    "language": "sql",
    "name": "cell14"
   },
   "outputs": [],
   "source": "SELECT AI_CLASSIFY('El científico publicó un estudio revolucionario sobre el cambio climático que podría transformar las políticas energéticas mundiales.', ['deportes', 'ciencia y tecnología', 'política y sociedad', 'entretenimiento'], {'output_mode': 'multi'});",
   "execution_count": null
  },
  {
   "cell_type": "markdown",
   "id": "16800e4f-42c5-4fc9-9974-62c7a609e584",
   "metadata": {
    "name": "cell17",
    "collapsed": false
   },
   "source": "El siguiente ejemplo incluye una descripción de la tarea y descripciones de etiquetas."
  },
  {
   "cell_type": "code",
   "id": "8482c24e-9862-4854-9461-ddfe3c0e8045",
   "metadata": {
    "language": "sql",
    "name": "cell9"
   },
   "outputs": [],
   "source": "SELECT AI_CLASSIFY(\n  'La actriz ganadora del Oscar anunció que donará el 50% de sus ganancias de la nueva película para construir escuelas en comunidades rurales.',\n  [\n      {'label': 'salud y medicina', 'description': 'Determina temas relacionados con la salud y la medicina'},\n      {'label': 'entretenimiento y espectáculos'},\n      {'label': 'educación y sociedad'},\n      {'label': 'tecnología'}\n  ],\n  {\n    'task_description': 'Devuelve la clasificación del texto proporcionado',\n    'output_mode': 'multi'\n  }\n);",
   "execution_count": null
  },
  {
   "cell_type": "markdown",
   "id": "0a0de6ab-f6f2-4514-a536-c2b3b09590d2",
   "metadata": {
    "name": "cell11",
    "collapsed": false
   },
   "source": "## **`AI_CLASSIFY`: Imágenes**\n\n### Usando como entrada un archivo único\n\nEn este ejemplo vamos a clasificar una sola imagen que se encuentre en un stage."
  },
  {
   "cell_type": "code",
   "id": "21044716-231a-4e22-91b7-d6e3a944f98e",
   "metadata": {
    "language": "sql",
    "name": "cell16"
   },
   "outputs": [],
   "source": "SELECT AI_CLASSIFY(TO_FILE('@imagenes', 'soumaya.jpg'), ['estadio', 'parque', 'comida', 'museo']):labels;",
   "execution_count": null
  },
  {
   "cell_type": "markdown",
   "id": "70282250-cd14-4798-acad-65594b89c582",
   "metadata": {
    "name": "cell18",
    "collapsed": false
   },
   "source": "En el siguiente ejemplo clasificaremos todas las imágenes que se encuentran en la tabla `image_table` que previamente hemos creado."
  },
  {
   "cell_type": "code",
   "id": "c6ab877a-87a0-4100-8ed1-947179d67c45",
   "metadata": {
    "language": "sql",
    "name": "cell12"
   },
   "outputs": [],
   "source": "use database curso_ia;\nuse schema seccion_2;\n\nSELECT\n*,\nAI_CLASSIFY(img, ['animal', 'auto', 'economía', 'museo']):labels AS clasificacion\nFROM image_table;",
   "execution_count": null
  },
  {
   "cell_type": "markdown",
   "id": "60129e1b-3ab5-48e2-af08-4a7b03f2a47e",
   "metadata": {
    "name": "cell13",
    "collapsed": false
   },
   "source": "### Usando en la solicitud un objeto construido por `PROMPT()`\n\n"
  },
  {
   "cell_type": "code",
   "id": "a13658e7-6d8c-481a-a0e9-22ed7c63a1da",
   "metadata": {
    "language": "sql",
    "name": "cell19"
   },
   "outputs": [],
   "source": "use database curso_ia;\nuse schema seccion_2;\n\nSELECT\n*,\nAI_CLASSIFY(PROMPT('Clasifica la imagen {0}', img),\n  ['animal', 'auto', 'economía', 'museo']):labels AS clasificacion\nFROM image_table;",
   "execution_count": null
  },
  {
   "cell_type": "markdown",
   "id": "7208043d-5df2-4f34-8704-273794ed201f",
   "metadata": {
    "name": "cell20",
    "collapsed": false
   },
   "source": "## Limitaciones\n\n- Las funciones de Snowflake AI no admiten la actualización incremental de tablas dinámicas.\n- Las funciones de Snowflake AI no funcionan con objetos `FILE` creados a partir de archivos en los siguientes tipos de stages:\n    - Internal stage con modo de cifrado `TYPE = 'SNOWFLAKE_FULL'`\n    - External stage con cualquier modo de cifrado del lado del cliente:\n        - `TYPE = 'AWS_CSE'`\n        - `TYPE = 'AZURE_CSE'`\n    - Stage de usuario\n    - Stage de tabla\n    - Stage con nombres entre comillas dobles"
  }
 ]
}