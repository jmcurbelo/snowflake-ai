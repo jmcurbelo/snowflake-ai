{
 "metadata": {
  "kernelspec": {
   "display_name": "Streamlit Notebook",
   "name": "streamlit"
  },
  "lastEditStatus": {
   "notebookId": "w73tqtkromluxteq3f6o",
   "authorId": "5639445461508",
   "authorName": "JOSE",
   "authorEmail": "jmoyacurbelo@outlook.com",
   "sessionId": "b4cb7c99-5ba8-4c52-9e1e-329040f3bef1",
   "lastEditTime": 1749673053142
  }
 },
 "nbformat_minor": 5,
 "nbformat": 4,
 "cells": [
  {
   "cell_type": "markdown",
   "id": "369f78f6-5920-43e1-8b1d-fe44ccf3bb58",
   "metadata": {
    "name": "cell1",
    "collapsed": false
   },
   "source": "Con Document AI, podemos procesar documentos de diversos formatos y extraer información tanto de párrafos con mucho texto como de imágenes que lo contienen, como logotipos, texto manuscrito (firmas) o marcas de verificación. En este lección veremos la configuración de los objetos y privilegios necesarios, y la creación de un modelo de Document AI para su uso en un pipeline de procesamiento.\n\n### Crear una base de datos y un rol\n\nA continuación crearemos el esquema correspondiente a esta sección del curso y crearemos un rol personalizado `doc_ai_role` para crear el modelo de Document AI y crear un pipeline de procesamiento."
  },
  {
   "cell_type": "code",
   "id": "da0f42a7-c44c-44f8-9037-d4820723c344",
   "metadata": {
    "language": "sql",
    "name": "cell2"
   },
   "outputs": [],
   "source": "-- Crear el esquema\nCREATE OR REPLACE SCHEMA curso_ia.seccion_5;",
   "execution_count": null
  },
  {
   "cell_type": "code",
   "id": "3ffede30-cf0e-4e0f-9ab6-917b8373c93a",
   "metadata": {
    "language": "sql",
    "name": "cell3"
   },
   "outputs": [],
   "source": "-- Crear un rol\nCREATE OR REPLACE ROLE doc_ai_role;",
   "execution_count": null
  },
  {
   "cell_type": "markdown",
   "id": "7db784cf-e00a-4793-b729-22c3d76b2804",
   "metadata": {
    "name": "cell5",
    "collapsed": false
   },
   "source": "### Privilegios necesarios\n\nPara otorgar los privilegios necesarios para trabajar con Document AI, sigamos los siguientes pasos:\n\n1. Otorgue el rol de base de datos `SNOWFLAKE.DOCUMENT_INTELLIGENCE_CREATOR` al rol `doc_ai_role`:"
  },
  {
   "cell_type": "code",
   "id": "da9d5be7-57eb-4fe9-a607-9a3fcb21980a",
   "metadata": {
    "language": "sql",
    "name": "cell4"
   },
   "outputs": [],
   "source": "GRANT DATABASE ROLE SNOWFLAKE.DOCUMENT_INTELLIGENCE_CREATOR TO ROLE doc_ai_role;",
   "execution_count": null
  },
  {
   "cell_type": "markdown",
   "id": "69d641a1-0b58-46a9-bd80-0de15e5e7b47",
   "metadata": {
    "name": "cell6",
    "collapsed": false
   },
   "source": "2. Otorgue privilegios de uso y operación del warehouse al rol `doc_ai_role`:\n"
  },
  {
   "cell_type": "code",
   "id": "68f72d9a-012d-4bdc-ba53-736430a12029",
   "metadata": {
    "language": "sql",
    "name": "cell7"
   },
   "outputs": [],
   "source": "GRANT USAGE, OPERATE ON WAREHOUSE compute_wh TO ROLE doc_ai_role;",
   "execution_count": null
  },
  {
   "cell_type": "markdown",
   "id": "db0513dd-eea7-4a8e-b5bb-0cc7266ea49d",
   "metadata": {
    "name": "cell8",
    "collapsed": false
   },
   "source": "3. Otorgue los privilegios para utilizar la base de datos y el esquema que creó al `doc_ai_role`:"
  },
  {
   "cell_type": "code",
   "id": "51bac210-b32d-4026-996f-1440bda22104",
   "metadata": {
    "language": "sql",
    "name": "cell9"
   },
   "outputs": [],
   "source": "GRANT USAGE ON DATABASE curso_ia TO ROLE doc_ai_role;\nGRANT USAGE ON SCHEMA curso_ia.seccion_5 TO ROLE doc_ai_role;",
   "execution_count": null
  },
  {
   "cell_type": "markdown",
   "id": "f47e8d7c-d99f-440f-af9c-0cec6ca9d281",
   "metadata": {
    "name": "cell10",
    "collapsed": false
   },
   "source": "4. Otorgue el privilegio de creación de stage en el esquema al rol `doc_ai_role` para almacenar los documentos para su extracción:"
  },
  {
   "cell_type": "code",
   "id": "19f4aa3a-0d7e-41f8-a963-3745a130a952",
   "metadata": {
    "language": "sql",
    "name": "cell11"
   },
   "outputs": [],
   "source": "GRANT CREATE STAGE ON SCHEMA curso_ia.seccion_5 TO ROLE doc_ai_role;",
   "execution_count": null
  },
  {
   "cell_type": "markdown",
   "id": "db518b14-9458-44f3-8858-c9cef8eee59b",
   "metadata": {
    "name": "cell12",
    "collapsed": false
   },
   "source": "5. Otorgue los privilegios para crear model builds (instancias de la clase DOCUMENT_INTELLIGENCE) al rol `doc_ai_role`:"
  },
  {
   "cell_type": "code",
   "id": "19a3da12-7c2d-49d1-87ae-d0c745f11751",
   "metadata": {
    "language": "sql",
    "name": "cell13"
   },
   "outputs": [],
   "source": "GRANT CREATE SNOWFLAKE.ML.DOCUMENT_INTELLIGENCE ON SCHEMA curso_ia.seccion_5 TO ROLE doc_ai_role;\nGRANT CREATE MODEL ON SCHEMA curso_ia.seccion_5 TO ROLE doc_ai_role;",
   "execution_count": null
  },
  {
   "cell_type": "markdown",
   "id": "9f19a2fa-d5f4-439f-8be0-270d5918d6a9",
   "metadata": {
    "name": "cell14",
    "collapsed": false
   },
   "source": "6. Otorgue el rol `doc_ai_role` a su usuario para su uso en el resto de la lección:\n"
  },
  {
   "cell_type": "code",
   "id": "8cdb0a4d-3aee-4e23-b746-18f4406efb8c",
   "metadata": {
    "language": "sql",
    "name": "cell15"
   },
   "outputs": [],
   "source": "-- Sustituya el usuario jose por su usuario en esta celda de código\nGRANT ROLE doc_ai_role TO USER jose;\nGRANT ROLE doc_ai_role TO ROLE ACCOUNTADMIN;",
   "execution_count": null
  },
  {
   "cell_type": "markdown",
   "id": "be3190d5-96d7-4af3-ba88-cd71d235b5e4",
   "metadata": {
    "name": "cell16",
    "collapsed": false
   },
   "source": "### Lista de entidades y preguntas\n\nLas siguientes entidades y sus respectivas preguntas deberán llenarse en la construcción del modelo. Las preguntas están in Inglés para obtener mejores resultados debido a que los documentos están en Inglés.\n\n- Ir a build details ⇒ Define values ⇒ Add entity\n    - `inspection_date`: What is the inspection date?\n    - `inspection_grade`: What is the grade?\n    - `inspector`: Who performed the inspection?\n    - `list_of_units`: What are all the units?"
  },
  {
   "cell_type": "markdown",
   "id": "b4cc1ece-23a4-4667-b5d7-28da6e031fbc",
   "metadata": {
    "name": "cell17",
    "collapsed": false
   },
   "source": "### Crear un pipeline de procesamiento de documentos\n\nA continuación crearemos un pipeline de procesamiento utilizando el modelo de Document AI, los strems y las taks de Snowflake. El pipeline extraerá información de los nuevos documentos de inspección almacenados en un internal stage.\n1. Cree un internal stage `pdf_stage` para almacenar los documentos:"
  },
  {
   "cell_type": "code",
   "id": "0dcdc1ce-cf84-49f8-a69f-c6a9e0867411",
   "metadata": {
    "language": "sql",
    "name": "cell18"
   },
   "outputs": [],
   "source": "CREATE OR REPLACE STAGE curso_ia.seccion_5.pdf_stage\n  DIRECTORY = (ENABLE = TRUE)\n  ENCRYPTION = (TYPE = 'SNOWFLAKE_SSE');",
   "execution_count": null
  },
  {
   "cell_type": "markdown",
   "id": "38ee9ea5-b576-4ca3-84d2-cbb03fe82f2c",
   "metadata": {
    "name": "cell19",
    "collapsed": false
   },
   "source": "2. Cree un stream `pdf_stream` sobre el stage `pdf_stage`:\n"
  },
  {
   "cell_type": "code",
   "id": "9cfd8eb0-cc0a-4b9e-94fd-78550de04853",
   "metadata": {
    "language": "sql",
    "name": "cell20",
    "codeCollapsed": false
   },
   "outputs": [],
   "source": "CREATE OR REPLACE STREAM curso_ia.seccion_5.pdf_stream ON STAGE curso_ia.seccion_5.pdf_stage;",
   "execution_count": null
  },
  {
   "cell_type": "markdown",
   "id": "5e4ea022-68ee-422e-868c-6547b4a5ddc5",
   "metadata": {
    "name": "cell21",
    "collapsed": false
   },
   "source": "3. Actualice los metadatos de la tabla de directorio que almacenará los archivos de documentos preparados:"
  },
  {
   "cell_type": "code",
   "id": "32527186-0a26-48c2-b1b3-b9e1dbe13b94",
   "metadata": {
    "language": "sql",
    "name": "cell22"
   },
   "outputs": [],
   "source": "ALTER STAGE curso_ia.seccion_5.pdf_stage REFRESH;",
   "execution_count": null
  },
  {
   "cell_type": "markdown",
   "id": "9531e1cf-d57a-44f1-b3e2-06fecee5500b",
   "metadata": {
    "name": "cell23",
    "collapsed": false
   },
   "source": "4. Cree una tabla `pdf_reviews` para almacenar la información sobre los documentos (como el nombre del archivo) y los datos que se extraerán de los documentos PDF:"
  },
  {
   "cell_type": "code",
   "id": "b19d8bda-ea6d-41a8-916e-21e6f540fd05",
   "metadata": {
    "language": "sql",
    "name": "cell24"
   },
   "outputs": [],
   "source": "CREATE OR REPLACE TABLE curso_ia.seccion_5.pdf_reviews (\n  file_name VARCHAR,\n  file_size VARIANT,\n  last_modified VARCHAR,\n  snowflake_file_url VARCHAR,\n  json_content VARCHAR\n);",
   "execution_count": null
  },
  {
   "cell_type": "markdown",
   "id": "1f51453c-a22e-4d2d-8765-9fcacd402c1d",
   "metadata": {
    "name": "cell25",
    "collapsed": false
   },
   "source": "5. Cree una tarea `data_review` para procesar nuevos documentos en el stage:"
  },
  {
   "cell_type": "code",
   "id": "3c3febf1-2b2c-4549-8c09-6afe08436b25",
   "metadata": {
    "language": "sql",
    "name": "cell26",
    "codeCollapsed": false
   },
   "outputs": [],
   "source": "CREATE OR REPLACE TASK curso_ia.seccion_5.load_data_review\n  WAREHOUSE = 'compute_wh'\n  SCHEDULE = '1 minute'\n  COMMENT = 'Procesa nuevos archivos en el stage e inserta datos en la tabla pdf_reviews.'\nWHEN SYSTEM$STREAM_HAS_DATA('curso_ia.seccion_5.pdf_stream')\nAS\nINSERT INTO pdf_reviews (\n  SELECT\n    RELATIVE_PATH AS file_name,\n    size AS file_size,\n    last_modified,\n    file_url AS snowflake_file_url,\n    curso_ia.seccion_5.reviews!PREDICT(GET_PRESIGNED_URL('@curso_ia.seccion_5.pdf_stage', RELATIVE_PATH), 1) AS json_content\n  FROM pdf_stream\n  WHERE METADATA$ACTION = 'INSERT'\n);",
   "execution_count": null
  },
  {
   "cell_type": "markdown",
   "id": "f0a31b05-0720-41b1-9155-47a6fe508f1e",
   "metadata": {
    "name": "cell27",
    "collapsed": false
   },
   "source": "Tenga en cuenta que las tareas recién creadas se suspenden automáticamente.\n\n6. Iniciar la tarea recién creada"
  },
  {
   "cell_type": "code",
   "id": "4f34ec19-a6cf-4d36-93f1-ffa74a589eed",
   "metadata": {
    "language": "sql",
    "name": "cell28"
   },
   "outputs": [],
   "source": "ALTER TASK curso_ia.seccion_5.load_data_review RESUME;",
   "execution_count": null
  },
  {
   "cell_type": "markdown",
   "id": "a08c33f7-1830-4a9d-b71a-6c7d15935a12",
   "metadata": {
    "name": "cell29",
    "collapsed": false
   },
   "source": "### Cargar documentos de inferencia al satge\n\nEn este paso usted deberá cargar los PDFs que se encuentran en la carpeta `datos_inferencia` adjunto como recurso a esta lección en el stage que hemos creado.\n\nLuego de cargar los documentos esperamos a que la tarea se ejecute. Como la hemos calendarizado cada 1 minuto, no debe demorar en ejecutar.\n\nLuego de que ejecute de forma correcta la tarea consultamos la tabla que creamos."
  },
  {
   "cell_type": "code",
   "id": "5ad1b467-a511-4eb9-9c2d-a690f1321aff",
   "metadata": {
    "language": "sql",
    "name": "cell32",
    "codeCollapsed": false
   },
   "outputs": [],
   "source": "SELECT * FROM curso_ia.seccion_5.pdf_reviews;",
   "execution_count": null
  },
  {
   "cell_type": "markdown",
   "id": "dbcb6e8e-0046-4ece-831f-3b603c86acaf",
   "metadata": {
    "name": "cell30",
    "collapsed": false
   },
   "source": "Si deseamos analizar la información extraída en columnas separadas podemos crear una nueva tabla como se muestra a continuación."
  },
  {
   "cell_type": "code",
   "id": "70dddf7c-fb65-44ae-8e3e-d185de6475ff",
   "metadata": {
    "language": "sql",
    "name": "cell31"
   },
   "outputs": [],
   "source": "CREATE OR REPLACE TABLE curso_ia.seccion_5.pdf_reviews_explode AS (\n WITH temp AS (\n   SELECT\n     RELATIVE_PATH AS file_name,\n     size AS file_size,\n     last_modified,\n     file_url AS snowflake_file_url,\n     curso_ia.seccion_5.reviews!PREDICT(get_presigned_url('@curso_ia.seccion_5.pdf_stage', RELATIVE_PATH), 1) AS json_content\n   FROM directory(@curso_ia.seccion_5.pdf_stage)\n )\n\n SELECT\n   file_name,\n   file_size,\n   last_modified,\n   snowflake_file_url,\n   json_content:__documentMetadata.ocrScore::FLOAT AS ocrScore,\n   f.value:score::FLOAT AS inspection_date_score,\n   f.value:value::STRING AS inspection_date_value,\n   g.value:score::FLOAT AS inspection_grade_score,\n   g.value:value::STRING AS inspection_grade_value,\n   i.value:score::FLOAT AS inspector_score,\n   i.value:value::STRING AS inspector_value,\n   ARRAY_TO_STRING(ARRAY_AGG(j.value:value::STRING), ', ') AS list_of_units\n FROM temp,\n   LATERAL FLATTEN(INPUT => json_content:inspection_date) f,\n   LATERAL FLATTEN(INPUT => json_content:inspection_grade) g,\n   LATERAL FLATTEN(INPUT => json_content:inspector) i,\n   LATERAL FLATTEN(INPUT => json_content:list_of_units) j\n GROUP BY ALL\n);",
   "execution_count": null
  },
  {
   "cell_type": "code",
   "id": "e83e03fc-b513-416d-ac27-5862434205f3",
   "metadata": {
    "language": "sql",
    "name": "cell33"
   },
   "outputs": [],
   "source": "SELECT * FROM curso_ia.seccion_5.pdf_reviews_explode;",
   "execution_count": null
  }
 ]
}